{
 "cells": [
  {
   "cell_type": "code",
   "execution_count": 39,
   "metadata": {},
   "outputs": [],
   "source": [
    "import pandas as pd\n",
    "import numpy as np\n",
    "import seaborn as sns\n",
    "import matplotlib.pyplot as plt\n",
    "from scipy import stats\n",
    "%matplotlib inline\n",
    "\n",
    "from sklearn.model_selection import train_test_split"
   ]
  },
  {
   "cell_type": "code",
   "execution_count": 40,
   "metadata": {},
   "outputs": [],
   "source": [
    "train = pd.read_csv(\"C:/Users/freta/Desktop/SPB_PROJECT/train.csv\")\n",
    "weather=pd.read_csv(\"C:/Users/freta/Desktop/SPB_PROJECT/weather.csv\")\n",
    "\n",
    "tr_drop = ['Trap', 'AddressNumberAndStreet', 'Address', 'Block', 'Street', 'Latitude', 'Longitude', 'AddressAccuracy']\n",
    "\n",
    "train_6 = train.drop(tr_drop, axis=1)\n",
    "\n",
    "wth_drop = ['CodeSum', 'Water1', 'SnowFall', 'Depth']\n",
    "\n",
    "weather_18 = weather.drop(wth_drop, axis=1)\n",
    "weather_18.PrecipTotal.replace('  T', '0.001', inplace=True)\n",
    "\n",
    "to_num = weather_18.columns.drop(['Station', 'Date', 'Tmax', 'Tmin', 'DewPoint', 'ResultSpeed', 'ResultDir'])\n",
    "weather_18[to_num] = weather_18[to_num].apply(pd.to_numeric, errors='coerce')\n",
    "\n",
    "weather_avrg=weather_18.groupby('Date').mean()\n",
    "weather_avrg=weather_avrg.drop('Station', axis=1)\n",
    "weather_avrg.StnPressure.fillna(weather_avrg.StnPressure.mean(), inplace=True)"
   ]
  },
  {
   "cell_type": "code",
   "execution_count": 41,
   "metadata": {},
   "outputs": [
    {
     "data": {
      "text/plain": [
       "(10506, 20)"
      ]
     },
     "execution_count": 41,
     "metadata": {},
     "output_type": "execute_result"
    }
   ],
   "source": [
    "df_merged = train_6.merge(weather_avrg, on='Date')\n",
    "df_merged.shape\n",
    "df_merged['WnvPresent'] = df_merged['WnvPresent'].apply(pd.to_numeric, errors='coerce')\n",
    "df_merged.columns\n",
    "df_merged.shape"
   ]
  },
  {
   "cell_type": "markdown",
   "metadata": {},
   "source": [
    "# Summary Statistics"
   ]
  },
  {
   "cell_type": "code",
   "execution_count": 7,
   "metadata": {},
   "outputs": [
    {
     "data": {
      "text/html": [
       "<div>\n",
       "<style scoped>\n",
       "    .dataframe tbody tr th:only-of-type {\n",
       "        vertical-align: middle;\n",
       "    }\n",
       "\n",
       "    .dataframe tbody tr th {\n",
       "        vertical-align: top;\n",
       "    }\n",
       "\n",
       "    .dataframe thead th {\n",
       "        text-align: right;\n",
       "    }\n",
       "</style>\n",
       "<table border=\"1\" class=\"dataframe\">\n",
       "  <thead>\n",
       "    <tr style=\"text-align: right;\">\n",
       "      <th></th>\n",
       "      <th>NumMosquitos</th>\n",
       "      <th>WnvPresent</th>\n",
       "      <th>Tmax</th>\n",
       "      <th>Tmin</th>\n",
       "      <th>Tavg</th>\n",
       "      <th>Depart</th>\n",
       "      <th>DewPoint</th>\n",
       "      <th>WetBulb</th>\n",
       "      <th>Heat</th>\n",
       "      <th>Cool</th>\n",
       "      <th>Sunrise</th>\n",
       "      <th>Sunset</th>\n",
       "      <th>PrecipTotal</th>\n",
       "      <th>StnPressure</th>\n",
       "      <th>SeaLevel</th>\n",
       "      <th>ResultSpeed</th>\n",
       "      <th>ResultDir</th>\n",
       "      <th>AvgSpeed</th>\n",
       "    </tr>\n",
       "  </thead>\n",
       "  <tbody>\n",
       "    <tr>\n",
       "      <th>count</th>\n",
       "      <td>10506.000000</td>\n",
       "      <td>10506.000000</td>\n",
       "      <td>10506.000000</td>\n",
       "      <td>10506.000000</td>\n",
       "      <td>10506.000000</td>\n",
       "      <td>10506.000000</td>\n",
       "      <td>10506.000000</td>\n",
       "      <td>10506.000000</td>\n",
       "      <td>10506.000000</td>\n",
       "      <td>10506.000000</td>\n",
       "      <td>10506.000000</td>\n",
       "      <td>10506.000000</td>\n",
       "      <td>10506.000000</td>\n",
       "      <td>10506.000000</td>\n",
       "      <td>10506.000000</td>\n",
       "      <td>10506.000000</td>\n",
       "      <td>10506.000000</td>\n",
       "      <td>10506.000000</td>\n",
       "    </tr>\n",
       "    <tr>\n",
       "      <th>mean</th>\n",
       "      <td>12.853512</td>\n",
       "      <td>0.052446</td>\n",
       "      <td>81.917095</td>\n",
       "      <td>63.647202</td>\n",
       "      <td>73.022463</td>\n",
       "      <td>2.740244</td>\n",
       "      <td>59.673853</td>\n",
       "      <td>64.809109</td>\n",
       "      <td>0.886208</td>\n",
       "      <td>8.908671</td>\n",
       "      <td>468.457263</td>\n",
       "      <td>1870.854559</td>\n",
       "      <td>0.145704</td>\n",
       "      <td>29.281112</td>\n",
       "      <td>29.960729</td>\n",
       "      <td>5.941238</td>\n",
       "      <td>17.639397</td>\n",
       "      <td>7.453531</td>\n",
       "    </tr>\n",
       "    <tr>\n",
       "      <th>std</th>\n",
       "      <td>16.133816</td>\n",
       "      <td>0.222936</td>\n",
       "      <td>8.272718</td>\n",
       "      <td>7.487112</td>\n",
       "      <td>7.463420</td>\n",
       "      <td>6.486468</td>\n",
       "      <td>7.809328</td>\n",
       "      <td>6.702969</td>\n",
       "      <td>2.697403</td>\n",
       "      <td>5.712730</td>\n",
       "      <td>45.512954</td>\n",
       "      <td>63.177046</td>\n",
       "      <td>0.323239</td>\n",
       "      <td>0.113619</td>\n",
       "      <td>0.116844</td>\n",
       "      <td>2.837126</td>\n",
       "      <td>8.994549</td>\n",
       "      <td>2.503952</td>\n",
       "    </tr>\n",
       "    <tr>\n",
       "      <th>min</th>\n",
       "      <td>1.000000</td>\n",
       "      <td>0.000000</td>\n",
       "      <td>57.500000</td>\n",
       "      <td>42.500000</td>\n",
       "      <td>51.000000</td>\n",
       "      <td>-12.000000</td>\n",
       "      <td>39.000000</td>\n",
       "      <td>47.000000</td>\n",
       "      <td>0.000000</td>\n",
       "      <td>0.000000</td>\n",
       "      <td>416.000000</td>\n",
       "      <td>1720.000000</td>\n",
       "      <td>0.000000</td>\n",
       "      <td>28.920000</td>\n",
       "      <td>29.595000</td>\n",
       "      <td>0.600000</td>\n",
       "      <td>1.000000</td>\n",
       "      <td>2.400000</td>\n",
       "    </tr>\n",
       "    <tr>\n",
       "      <th>25%</th>\n",
       "      <td>2.000000</td>\n",
       "      <td>0.000000</td>\n",
       "      <td>78.000000</td>\n",
       "      <td>59.500000</td>\n",
       "      <td>70.000000</td>\n",
       "      <td>-2.000000</td>\n",
       "      <td>54.500000</td>\n",
       "      <td>61.500000</td>\n",
       "      <td>0.000000</td>\n",
       "      <td>5.000000</td>\n",
       "      <td>429.000000</td>\n",
       "      <td>1832.000000</td>\n",
       "      <td>0.000000</td>\n",
       "      <td>29.200000</td>\n",
       "      <td>29.880000</td>\n",
       "      <td>4.000000</td>\n",
       "      <td>10.000000</td>\n",
       "      <td>5.750000</td>\n",
       "    </tr>\n",
       "    <tr>\n",
       "      <th>50%</th>\n",
       "      <td>5.000000</td>\n",
       "      <td>0.000000</td>\n",
       "      <td>83.000000</td>\n",
       "      <td>65.500000</td>\n",
       "      <td>74.500000</td>\n",
       "      <td>4.000000</td>\n",
       "      <td>60.000000</td>\n",
       "      <td>66.000000</td>\n",
       "      <td>0.000000</td>\n",
       "      <td>9.500000</td>\n",
       "      <td>449.000000</td>\n",
       "      <td>1907.000000</td>\n",
       "      <td>0.000000</td>\n",
       "      <td>29.295000</td>\n",
       "      <td>29.970000</td>\n",
       "      <td>5.650000</td>\n",
       "      <td>19.000000</td>\n",
       "      <td>7.000000</td>\n",
       "    </tr>\n",
       "    <tr>\n",
       "      <th>75%</th>\n",
       "      <td>17.000000</td>\n",
       "      <td>0.000000</td>\n",
       "      <td>88.000000</td>\n",
       "      <td>69.500000</td>\n",
       "      <td>78.500000</td>\n",
       "      <td>8.000000</td>\n",
       "      <td>66.500000</td>\n",
       "      <td>69.500000</td>\n",
       "      <td>0.000000</td>\n",
       "      <td>13.500000</td>\n",
       "      <td>514.000000</td>\n",
       "      <td>1924.000000</td>\n",
       "      <td>0.130000</td>\n",
       "      <td>29.365000</td>\n",
       "      <td>30.050000</td>\n",
       "      <td>7.850000</td>\n",
       "      <td>24.500000</td>\n",
       "      <td>9.350000</td>\n",
       "    </tr>\n",
       "    <tr>\n",
       "      <th>max</th>\n",
       "      <td>50.000000</td>\n",
       "      <td>1.000000</td>\n",
       "      <td>96.500000</td>\n",
       "      <td>77.500000</td>\n",
       "      <td>85.500000</td>\n",
       "      <td>18.000000</td>\n",
       "      <td>73.000000</td>\n",
       "      <td>76.000000</td>\n",
       "      <td>14.000000</td>\n",
       "      <td>20.500000</td>\n",
       "      <td>557.000000</td>\n",
       "      <td>1931.000000</td>\n",
       "      <td>2.420000</td>\n",
       "      <td>29.620000</td>\n",
       "      <td>30.330000</td>\n",
       "      <td>15.000000</td>\n",
       "      <td>36.000000</td>\n",
       "      <td>15.650000</td>\n",
       "    </tr>\n",
       "  </tbody>\n",
       "</table>\n",
       "</div>"
      ],
      "text/plain": [
       "       NumMosquitos    WnvPresent          Tmax          Tmin          Tavg  \\\n",
       "count  10506.000000  10506.000000  10506.000000  10506.000000  10506.000000   \n",
       "mean      12.853512      0.052446     81.917095     63.647202     73.022463   \n",
       "std       16.133816      0.222936      8.272718      7.487112      7.463420   \n",
       "min        1.000000      0.000000     57.500000     42.500000     51.000000   \n",
       "25%        2.000000      0.000000     78.000000     59.500000     70.000000   \n",
       "50%        5.000000      0.000000     83.000000     65.500000     74.500000   \n",
       "75%       17.000000      0.000000     88.000000     69.500000     78.500000   \n",
       "max       50.000000      1.000000     96.500000     77.500000     85.500000   \n",
       "\n",
       "             Depart      DewPoint       WetBulb          Heat          Cool  \\\n",
       "count  10506.000000  10506.000000  10506.000000  10506.000000  10506.000000   \n",
       "mean       2.740244     59.673853     64.809109      0.886208      8.908671   \n",
       "std        6.486468      7.809328      6.702969      2.697403      5.712730   \n",
       "min      -12.000000     39.000000     47.000000      0.000000      0.000000   \n",
       "25%       -2.000000     54.500000     61.500000      0.000000      5.000000   \n",
       "50%        4.000000     60.000000     66.000000      0.000000      9.500000   \n",
       "75%        8.000000     66.500000     69.500000      0.000000     13.500000   \n",
       "max       18.000000     73.000000     76.000000     14.000000     20.500000   \n",
       "\n",
       "            Sunrise        Sunset   PrecipTotal   StnPressure      SeaLevel  \\\n",
       "count  10506.000000  10506.000000  10506.000000  10506.000000  10506.000000   \n",
       "mean     468.457263   1870.854559      0.145704     29.281112     29.960729   \n",
       "std       45.512954     63.177046      0.323239      0.113619      0.116844   \n",
       "min      416.000000   1720.000000      0.000000     28.920000     29.595000   \n",
       "25%      429.000000   1832.000000      0.000000     29.200000     29.880000   \n",
       "50%      449.000000   1907.000000      0.000000     29.295000     29.970000   \n",
       "75%      514.000000   1924.000000      0.130000     29.365000     30.050000   \n",
       "max      557.000000   1931.000000      2.420000     29.620000     30.330000   \n",
       "\n",
       "        ResultSpeed     ResultDir      AvgSpeed  \n",
       "count  10506.000000  10506.000000  10506.000000  \n",
       "mean       5.941238     17.639397      7.453531  \n",
       "std        2.837126      8.994549      2.503952  \n",
       "min        0.600000      1.000000      2.400000  \n",
       "25%        4.000000     10.000000      5.750000  \n",
       "50%        5.650000     19.000000      7.000000  \n",
       "75%        7.850000     24.500000      9.350000  \n",
       "max       15.000000     36.000000     15.650000  "
      ]
     },
     "execution_count": 7,
     "metadata": {},
     "output_type": "execute_result"
    }
   ],
   "source": [
    "df_merged.describe()"
   ]
  },
  {
   "cell_type": "code",
   "execution_count": 357,
   "metadata": {},
   "outputs": [],
   "source": [
    "# 1. majority of the columns mean except ('DewPoint', 'StnPressure', 'SeaLevel', 'ResultSpeed', 'ResultDir', 'AvgSpeed') \n",
    "# is different from the median represented by the 50%\n",
    "# 2. there is notably large difference between mean and 75 percentile in 'Heat', 'NumMosquitos', 'PrecipTotal'\n",
    "\n",
    "# Therefore, we can understand that there are outliers in these variables stated above."
   ]
  },
  {
   "cell_type": "code",
   "execution_count": 8,
   "metadata": {},
   "outputs": [
    {
     "data": {
      "text/html": [
       "<div>\n",
       "<style scoped>\n",
       "    .dataframe tbody tr th:only-of-type {\n",
       "        vertical-align: middle;\n",
       "    }\n",
       "\n",
       "    .dataframe tbody tr th {\n",
       "        vertical-align: top;\n",
       "    }\n",
       "\n",
       "    .dataframe thead th {\n",
       "        text-align: right;\n",
       "    }\n",
       "</style>\n",
       "<table border=\"1\" class=\"dataframe\">\n",
       "  <thead>\n",
       "    <tr style=\"text-align: right;\">\n",
       "      <th></th>\n",
       "      <th>NumMosquitos</th>\n",
       "      <th>WnvPresent</th>\n",
       "      <th>Tmax</th>\n",
       "      <th>Tmin</th>\n",
       "      <th>Tavg</th>\n",
       "      <th>Depart</th>\n",
       "      <th>DewPoint</th>\n",
       "      <th>WetBulb</th>\n",
       "      <th>Heat</th>\n",
       "      <th>Cool</th>\n",
       "      <th>Sunrise</th>\n",
       "      <th>Sunset</th>\n",
       "      <th>PrecipTotal</th>\n",
       "      <th>StnPressure</th>\n",
       "      <th>SeaLevel</th>\n",
       "      <th>ResultSpeed</th>\n",
       "      <th>ResultDir</th>\n",
       "      <th>AvgSpeed</th>\n",
       "    </tr>\n",
       "  </thead>\n",
       "  <tbody>\n",
       "    <tr>\n",
       "      <th>0.00</th>\n",
       "      <td>1.0</td>\n",
       "      <td>0.0</td>\n",
       "      <td>57.5</td>\n",
       "      <td>42.5</td>\n",
       "      <td>51.0</td>\n",
       "      <td>-12.0</td>\n",
       "      <td>39.0</td>\n",
       "      <td>47.0</td>\n",
       "      <td>0.0</td>\n",
       "      <td>0.0</td>\n",
       "      <td>416.0</td>\n",
       "      <td>1720.0</td>\n",
       "      <td>0.000</td>\n",
       "      <td>28.920</td>\n",
       "      <td>29.595</td>\n",
       "      <td>0.6</td>\n",
       "      <td>1.0</td>\n",
       "      <td>2.40</td>\n",
       "    </tr>\n",
       "    <tr>\n",
       "      <th>0.05</th>\n",
       "      <td>1.0</td>\n",
       "      <td>0.0</td>\n",
       "      <td>63.5</td>\n",
       "      <td>48.0</td>\n",
       "      <td>56.5</td>\n",
       "      <td>-8.0</td>\n",
       "      <td>45.0</td>\n",
       "      <td>50.5</td>\n",
       "      <td>0.0</td>\n",
       "      <td>0.0</td>\n",
       "      <td>416.0</td>\n",
       "      <td>1744.0</td>\n",
       "      <td>0.000</td>\n",
       "      <td>29.105</td>\n",
       "      <td>29.760</td>\n",
       "      <td>2.0</td>\n",
       "      <td>4.0</td>\n",
       "      <td>3.90</td>\n",
       "    </tr>\n",
       "    <tr>\n",
       "      <th>0.95</th>\n",
       "      <td>50.0</td>\n",
       "      <td>1.0</td>\n",
       "      <td>91.5</td>\n",
       "      <td>73.0</td>\n",
       "      <td>81.5</td>\n",
       "      <td>12.0</td>\n",
       "      <td>70.5</td>\n",
       "      <td>74.0</td>\n",
       "      <td>8.5</td>\n",
       "      <td>16.5</td>\n",
       "      <td>542.0</td>\n",
       "      <td>1931.0</td>\n",
       "      <td>0.685</td>\n",
       "      <td>29.440</td>\n",
       "      <td>30.130</td>\n",
       "      <td>10.7</td>\n",
       "      <td>31.5</td>\n",
       "      <td>11.20</td>\n",
       "    </tr>\n",
       "    <tr>\n",
       "      <th>1.00</th>\n",
       "      <td>50.0</td>\n",
       "      <td>1.0</td>\n",
       "      <td>96.5</td>\n",
       "      <td>77.5</td>\n",
       "      <td>85.5</td>\n",
       "      <td>18.0</td>\n",
       "      <td>73.0</td>\n",
       "      <td>76.0</td>\n",
       "      <td>14.0</td>\n",
       "      <td>20.5</td>\n",
       "      <td>557.0</td>\n",
       "      <td>1931.0</td>\n",
       "      <td>2.420</td>\n",
       "      <td>29.620</td>\n",
       "      <td>30.330</td>\n",
       "      <td>15.0</td>\n",
       "      <td>36.0</td>\n",
       "      <td>15.65</td>\n",
       "    </tr>\n",
       "  </tbody>\n",
       "</table>\n",
       "</div>"
      ],
      "text/plain": [
       "      NumMosquitos  WnvPresent  Tmax  Tmin  Tavg  Depart  DewPoint  WetBulb  \\\n",
       "0.00           1.0         0.0  57.5  42.5  51.0   -12.0      39.0     47.0   \n",
       "0.05           1.0         0.0  63.5  48.0  56.5    -8.0      45.0     50.5   \n",
       "0.95          50.0         1.0  91.5  73.0  81.5    12.0      70.5     74.0   \n",
       "1.00          50.0         1.0  96.5  77.5  85.5    18.0      73.0     76.0   \n",
       "\n",
       "      Heat  Cool  Sunrise  Sunset  PrecipTotal  StnPressure  SeaLevel  \\\n",
       "0.00   0.0   0.0    416.0  1720.0        0.000       28.920    29.595   \n",
       "0.05   0.0   0.0    416.0  1744.0        0.000       29.105    29.760   \n",
       "0.95   8.5  16.5    542.0  1931.0        0.685       29.440    30.130   \n",
       "1.00  14.0  20.5    557.0  1931.0        2.420       29.620    30.330   \n",
       "\n",
       "      ResultSpeed  ResultDir  AvgSpeed  \n",
       "0.00          0.6        1.0      2.40  \n",
       "0.05          2.0        4.0      3.90  \n",
       "0.95         10.7       31.5     11.20  \n",
       "1.00         15.0       36.0     15.65  "
      ]
     },
     "execution_count": 8,
     "metadata": {},
     "output_type": "execute_result"
    }
   ],
   "source": [
    "# To be more specific let's check the difference b/n the 95th percentile and maximum value, and\n",
    "# 5th percentile and minimum value\n",
    "\n",
    "df_merged.quantile([0.0, 0.05, 0.95, 1.0])\n",
    "\n",
    "# 1) There is big difference between 95 percentile and maximum value for 'Heat', 'PrecipTotal', & 'ResultSpeed'. \n",
    "# This indicstes the presence of outliers in these three variables.\n",
    "# 2) There is no big difference between the 5th percentile and minimum value for all the variables"
   ]
  },
  {
   "cell_type": "markdown",
   "metadata": {},
   "source": [
    "# Understanding Target variable"
   ]
  },
  {
   "cell_type": "code",
   "execution_count": 42,
   "metadata": {},
   "outputs": [
    {
     "data": {
      "text/plain": [
       "0    9955\n",
       "1     551\n",
       "Name: WnvPresent, dtype: int64"
      ]
     },
     "execution_count": 42,
     "metadata": {},
     "output_type": "execute_result"
    }
   ],
   "source": [
    "df_merged.WnvPresent.unique()\n",
    "\n",
    "# This is our target variable. It is a categorical variable with 0 representing no WNV and\n",
    "# 1 representing presence of WNV in the mosquito.\n",
    "\n",
    "df_merged.WnvPresent.value_counts()\n",
    "\n",
    "# This can tell us that we only have few observations for 1 (positive) as compared to 0 (negative). Hence, we are having an imbalanced dataset. \n",
    "# We will consider this later in the machine learning part."
   ]
  },
  {
   "cell_type": "markdown",
   "metadata": {},
   "source": [
    "# Extracting Features from 'Date' Variable "
   ]
  },
  {
   "cell_type": "markdown",
   "metadata": {},
   "source": [
    "#### -The 'Date' variable itself is not helpful for our machine learning. However, we can extract many variables such as  'Day_of_week', 'Day_of_year', 'Week_of_year', 'Month', and 'Quarter' that can be important to our prediction model."
   ]
  },
  {
   "cell_type": "code",
   "execution_count": 43,
   "metadata": {},
   "outputs": [],
   "source": [
    "\n",
    "# Extract the day of week from the Date \n",
    "df_merged['Day_of_week'] = pd.DatetimeIndex(df_merged['Date']).dayofweek\n",
    "\n",
    "# Extract the day of year from the Date \n",
    "df_merged['Day_of_year'] = pd.DatetimeIndex(df_merged['Date']).dayofyear\n",
    "\n",
    "# Extract the month from the Date \n",
    "df_merged['Week_of_year'] = pd.DatetimeIndex(df_merged['Date']).week\n",
    "\n",
    "# Extract the month from the Date \n",
    "df_merged['Month'] = pd.DatetimeIndex(df_merged['Date']).month \n",
    "\n",
    "# Extract the month from the Date \n",
    "\n",
    "df_merged['Quarter'] = pd.DatetimeIndex(df_merged['Date']).quarter\n",
    "\n",
    "# df_merged.info()"
   ]
  },
  {
   "cell_type": "code",
   "execution_count": 44,
   "metadata": {},
   "outputs": [
    {
     "data": {
      "text/plain": [
       "0    9955\n",
       "1     551\n",
       "Name: WnvPresent, dtype: int64"
      ]
     },
     "execution_count": 44,
     "metadata": {},
     "output_type": "execute_result"
    }
   ],
   "source": [
    "# Once we extract the above five features from the 'Date' variable, Let's remove the 'Date' variable as it is not necessary anymore. \n",
    "df_time = df_merged.drop('Date', axis=1)\n",
    "\n",
    "df_time.WnvPresent.value_counts()"
   ]
  },
  {
   "cell_type": "markdown",
   "metadata": {},
   "source": [
    "# To check Outliers"
   ]
  },
  {
   "cell_type": "code",
   "execution_count": 20,
   "metadata": {},
   "outputs": [],
   "source": [
    "box = ['NumMosquitos', 'Tmax', 'Tmin', 'Tavg', 'Depart','DewPoint', 'WetBulb', 'Heat', 'Cool', 'Sunrise', 'Sunset', 'PrecipTotal', 'StnPressure', 'SeaLevel', 'ResultSpeed', 'ResultDir', 'AvgSpeed']\n",
    "dfcol=df_merged[box]"
   ]
  },
  {
   "cell_type": "code",
   "execution_count": 21,
   "metadata": {},
   "outputs": [
    {
     "data": {
      "image/png": "[encoded data removed]",
      "text/plain": [
       "<Figure size 1224x6098.82 with 17 Axes>"
      ]
     },
     "metadata": {
      "needs_background": "light"
     },
     "output_type": "display_data"
    }
   ],
   "source": [
    "cols = dfcol.columns.values\n",
    "\n",
    "number_of_columns=17\n",
    "number_of_rows = len(cols)-1/number_of_columns\n",
    "plt.figure(figsize=(number_of_columns,5*number_of_rows))\n",
    "for i in range(0,len(cols)):\n",
    "    plt.subplot(number_of_rows + 1,number_of_columns,i+1)\n",
    "    sns.set_style('whitegrid')\n",
    "    sns.boxplot(dfcol[cols[i]],color='green',orient='v')\n",
    "    plt.tight_layout()"
   ]
  },
  {
   "cell_type": "code",
   "execution_count": 421,
   "metadata": {},
   "outputs": [],
   "source": [
    "# The black dot above or below the whiskers indicate the presence of outlier. \n",
    "# 'DewPoint', 'Cool', 'Sunrise', 'Sunset', & 'ResultDir' are the features without outliers. All other columns shows outliers."
   ]
  },
  {
   "cell_type": "code",
   "execution_count": null,
   "metadata": {},
   "outputs": [],
   "source": []
  },
  {
   "cell_type": "markdown",
   "metadata": {},
   "source": [
    "# To check distribution-Skewness"
   ]
  },
  {
   "cell_type": "code",
   "execution_count": 166,
   "metadata": {},
   "outputs": [
    {
     "data": {
      "image/png": "[encoded data removed]",
      "text/plain": [
       "<Figure size 2448x6098.82 with 17 Axes>"
      ]
     },
     "metadata": {},
     "output_type": "display_data"
    }
   ],
   "source": [
    "plt.figure(figsize=(2*number_of_columns,5*number_of_rows))\n",
    "for i in range(0,len(cols)):\n",
    "    plt.subplot(number_of_rows + 1,number_of_columns,i+1)\n",
    "    sns.distplot(dfcol[cols[i]],kde=True)"
   ]
  },
  {
   "cell_type": "code",
   "execution_count": 101,
   "metadata": {},
   "outputs": [],
   "source": [
    "# 'StnPressure', and 'SeaLevel' appear to be normally distributed.\n",
    "# 'Cool', 'SunSet', 'ResultSpeed', and 'ResultDir' appear to be multimodal while \n",
    "# 'Sunrise', 'NumMosquitos', and 'WetBulb' appear to be bimodal.\n",
    "# 'PrecipTotal', 'Heat', and'NumMosquitos'are extremely skewed to the right.\n",
    "# The rest features are slightly skewed to either right or left"
   ]
  },
  {
   "cell_type": "markdown",
   "metadata": {},
   "source": [
    "\n",
    "# VISUAL EDA OF EACH FEATURES WITH THE TARGET VARIABLE"
   ]
  },
  {
   "cell_type": "code",
   "execution_count": null,
   "metadata": {},
   "outputs": [],
   "source": []
  },
  {
   "cell_type": "code",
   "execution_count": 443,
   "metadata": {},
   "outputs": [
    {
     "data": {
      "text/plain": [
       "Text(0.5, 1.0, 'Frequency of trapped mosquitos by Month')"
      ]
     },
     "execution_count": 443,
     "metadata": {},
     "output_type": "execute_result"
    },
    {
     "data": {
      "image/png": "[encoded data removed]",
      "text/plain": [
       "<Figure size 432x288 with 1 Axes>"
      ]
     },
     "metadata": {
      "needs_background": "light"
     },
     "output_type": "display_data"
    }
   ],
   "source": [
    "df_time.groupby(['Month'])['NumMosquitos'].sum().plot.bar()\n",
    "plt.ylabel('Number of mosquitos')\n",
    "plt.title('Frequency of trapped mosquitos by Month')"
   ]
  },
  {
   "cell_type": "code",
   "execution_count": 444,
   "metadata": {},
   "outputs": [
    {
     "data": {
      "text/plain": [
       "Text(0.5, 1.0, 'WNV positivity rate by Month')"
      ]
     },
     "execution_count": 444,
     "metadata": {},
     "output_type": "execute_result"
    },
    {
     "data": {
      "image/png": "[encoded data removed]",
      "text/plain": [
       "<Figure size 432x288 with 1 Axes>"
      ]
     },
     "metadata": {
      "needs_background": "light"
     },
     "output_type": "display_data"
    }
   ],
   "source": [
    "df_time.groupby(['Month'])['WnvPresent'].mean().sort_values(ascending=False)\n",
    "\n",
    "\n",
    "df_time.groupby(['Month'])['WnvPresent'].mean().plot.bar()\n",
    "plt.ylabel('WNV Positivity Rate %')\n",
    "plt.title('WNV positivity rate by Month')"
   ]
  },
  {
   "cell_type": "code",
   "execution_count": 450,
   "metadata": {},
   "outputs": [
    {
     "data": {
      "text/plain": [
       "Text(0.5, 1.0, 'WNV positivity rate by Quarter')"
      ]
     },
     "execution_count": 450,
     "metadata": {},
     "output_type": "execute_result"
    },
    {
     "data": {
      "image/png": "[encoded data removed]",
      "text/plain": [
       "<Figure size 432x288 with 1 Axes>"
      ]
     },
     "metadata": {
      "needs_background": "light"
     },
     "output_type": "display_data"
    }
   ],
   "source": [
    "df_time.groupby(['Quarter'])['WnvPresent'].mean().plot.bar()\n",
    "plt.ylabel('WNV Positivity Rate %')\n",
    "plt.title('WNV positivity rate by Quarter')"
   ]
  },
  {
   "cell_type": "code",
   "execution_count": 442,
   "metadata": {},
   "outputs": [
    {
     "data": {
      "text/plain": [
       "Text(0.5, 1.0, 'WNV positivity rate by Month')"
      ]
     },
     "execution_count": 442,
     "metadata": {},
     "output_type": "execute_result"
    },
    {
     "data": {
      "image/png": "[encoded data removed]",
      "text/plain": [
       "<Figure size 432x288 with 1 Axes>"
      ]
     },
     "metadata": {
      "needs_background": "light"
     },
     "output_type": "display_data"
    }
   ],
   "source": [
    "df_time.groupby(['Day_of_week'])['WnvPresent'].mean().plot.bar()\n",
    "plt.ylabel('WNV Positivity Rate %')\n",
    "plt.title('WNV positivity rate by Day_of_week')"
   ]
  },
  {
   "cell_type": "code",
   "execution_count": 451,
   "metadata": {},
   "outputs": [
    {
     "data": {
      "text/plain": [
       "Text(0.5, 1.0, 'WNV positivity rate by Day_of_year')"
      ]
     },
     "execution_count": 451,
     "metadata": {},
     "output_type": "execute_result"
    },
    {
     "data": {
      "image/png": "[encoded data removed]",
      "text/plain": [
       "<Figure size 1440x288 with 1 Axes>"
      ]
     },
     "metadata": {
      "needs_background": "light"
     },
     "output_type": "display_data"
    }
   ],
   "source": [
    "plt.figure(figsize=(20,4))\n",
    "df_time.groupby(['Day_of_year'])['WnvPresent'].mean().plot.bar()\n",
    "plt.ylabel('WNV Positivity Rate %')\n",
    "plt.title('WNV positivity rate by Day_of_year')"
   ]
  },
  {
   "cell_type": "code",
   "execution_count": 452,
   "metadata": {},
   "outputs": [
    {
     "data": {
      "text/plain": [
       "Text(0.5, 1.0, 'WNV positivity rate by Week_of_year')"
      ]
     },
     "execution_count": 452,
     "metadata": {},
     "output_type": "execute_result"
    },
    {
     "data": {
      "image/png": "[encoded data removed]",
      "text/plain": [
       "<Figure size 432x288 with 1 Axes>"
      ]
     },
     "metadata": {
      "needs_background": "light"
     },
     "output_type": "display_data"
    }
   ],
   "source": [
    "df_time.groupby(['Week_of_year'])['WnvPresent'].mean().plot.bar()\n",
    "plt.ylabel('WNV Positivity Rate %')\n",
    "plt.title('WNV positivity rate by Week_of_year')\n"
   ]
  },
  {
   "cell_type": "code",
   "execution_count": null,
   "metadata": {},
   "outputs": [],
   "source": []
  },
  {
   "cell_type": "markdown",
   "metadata": {},
   "source": [
    "### - From the above six barcharts we can understand that WNV positivity rate is high in the third quarter, during  August and September, which is in line with time of year when mosquito populations will be largest (August, July, June & September). \n",
    "### On top of that, WNV positivity rate is high in thirsday, tuesday and wednesday. However, we don't have any data that was aquired during the weekends(Saturday, and sunday). Mosquito traps were done from monday to friday only."
   ]
  },
  {
   "cell_type": "code",
   "execution_count": 455,
   "metadata": {},
   "outputs": [
    {
     "data": {
      "text/plain": [
       "Text(0.5, 1.0, 'WNV positivity frequency by Species')"
      ]
     },
     "execution_count": 455,
     "metadata": {},
     "output_type": "execute_result"
    },
    {
     "data": {
      "image/png": "[encoded data removed]",
      "text/plain": [
       "<Figure size 1445.15x576 with 1 Axes>"
      ]
     },
     "metadata": {
      "needs_background": "light"
     },
     "output_type": "display_data"
    }
   ],
   "source": [
    "df_time.groupby(['Species'])['WnvPresent'].sum().sort_values(ascending=False)\n",
    "\n",
    "\n",
    "sns.catplot(x='Species', hue='WnvPresent', data = df_time, kind='count', height=8, aspect=2.4)\n",
    "plt.ylabel('WNV Positivity frequency')\n",
    "plt.title('WNV positivity frequency by Species')"
   ]
  },
  {
   "cell_type": "markdown",
   "metadata": {},
   "source": [
    "### - The above figure illustrates the number of mosquitos found in traps that contain West Nile Virus grouped by species. Knowing which species are more likely to carry the virus will be useful if the species tend to exist in different areas. CULEX PIPIENS/RESTUANS  (262), CULEX PIPIENS (240), & CULEX RESTUANS (49) were the only species carrying WNV. \n",
    "### - Later in the machine learning part, we will filter  our dataset to these three species only since the rest species have null value and as a result have no relevance in building  prediction model."
   ]
  },
  {
   "cell_type": "code",
   "execution_count": 458,
   "metadata": {},
   "outputs": [
    {
     "data": {
      "text/plain": [
       "Text(0.5, 1.0, 'WNV positivity rate by Total number of mosquitos')"
      ]
     },
     "execution_count": 458,
     "metadata": {},
     "output_type": "execute_result"
    },
    {
     "data": {
      "image/png": "[encoded data removed]",
      "text/plain": [
       "<Figure size 720x288 with 1 Axes>"
      ]
     },
     "metadata": {
      "needs_background": "light"
     },
     "output_type": "display_data"
    }
   ],
   "source": [
    "df_time.groupby(['NumMosquitos'])['WnvPresent'].mean().sort_values(ascending=False)\n",
    "\n",
    "plt.figure(figsize=(10,4))\n",
    "df_time.groupby(['NumMosquitos'])['WnvPresent'].mean().plot.bar()\n",
    "plt.ylabel('WNV Positivity Rate %')\n",
    "plt.title('WNV positivity rate by Total number of mosquitos')\n",
    "\n",
    "\n"
   ]
  },
  {
   "cell_type": "markdown",
   "metadata": {},
   "source": [
    "### - The above chart depicts that as the number of trapped mosquitoes increase WNV positivity rate also increases. This finding is straight forward that the more sample we have the more variety of mosquto species we get and consequently we will have more WNV positivity rate."
   ]
  },
  {
   "cell_type": "code",
   "execution_count": 463,
   "metadata": {},
   "outputs": [
    {
     "data": {
      "text/plain": [
       "Text(0.5, 1.0, 'WNV positive frequency by Max temperature')"
      ]
     },
     "execution_count": 463,
     "metadata": {},
     "output_type": "execute_result"
    },
    {
     "data": {
      "image/png": "[encoded data removed]",
      "text/plain": [
       "<Figure size 720x288 with 1 Axes>"
      ]
     },
     "metadata": {
      "needs_background": "light"
     },
     "output_type": "display_data"
    }
   ],
   "source": [
    "df_time.groupby(['Tmax'])['WnvPresent'].mean().sort_values(ascending=False)\n",
    "plt.figure(figsize=(10,4))\n",
    "\n",
    "df_time.groupby(['Tmax'])['WnvPresent'].mean().plot.bar()\n",
    "plt.ylabel('WNV Positive rate')\n",
    "plt.title('WNV positive frequency by Max temperature')\n"
   ]
  },
  {
   "cell_type": "code",
   "execution_count": 464,
   "metadata": {},
   "outputs": [
    {
     "data": {
      "text/plain": [
       "Text(0.5, 1.0, 'WNV positivity rate by Minimum temperature')"
      ]
     },
     "execution_count": 464,
     "metadata": {},
     "output_type": "execute_result"
    },
    {
     "data": {
      "image/png": "[encoded data removed]",
      "text/plain": [
       "<Figure size 720x288 with 1 Axes>"
      ]
     },
     "metadata": {
      "needs_background": "light"
     },
     "output_type": "display_data"
    }
   ],
   "source": [
    "\n",
    "df_time.groupby(['Tmin'])['WnvPresent'].mean().sort_values(ascending=False)\n",
    "plt.figure(figsize=(10,4))\n",
    "df_time.groupby(['Tmin'])['WnvPresent'].mean().plot.bar()\n",
    "plt.ylabel('WNV Positivity Rate %')\n",
    "plt.title('WNV positivity rate by Minimum temperature')"
   ]
  },
  {
   "cell_type": "code",
   "execution_count": 466,
   "metadata": {},
   "outputs": [
    {
     "data": {
      "text/plain": [
       "Text(0.5, 1.0, 'WNV positivity rate by Average Temperature')"
      ]
     },
     "execution_count": 466,
     "metadata": {},
     "output_type": "execute_result"
    },
    {
     "data": {
      "image/png": "[encoded data removed]",
      "text/plain": [
       "<Figure size 720x288 with 1 Axes>"
      ]
     },
     "metadata": {
      "needs_background": "light"
     },
     "output_type": "display_data"
    }
   ],
   "source": [
    "df_time.groupby(['Tavg'])['WnvPresent'].mean().sort_values(ascending=False)\n",
    "plt.figure(figsize=(10,4))\n",
    "\n",
    "df_time.groupby(['Tavg'])['WnvPresent'].mean().plot.bar()\n",
    "plt.ylabel('WNV Positivity Rate %')\n",
    "plt.title('WNV positivity rate by Average Temperature')"
   ]
  },
  {
   "cell_type": "code",
   "execution_count": 467,
   "metadata": {},
   "outputs": [
    {
     "data": {
      "text/plain": [
       "Text(0.5, 1.0, 'WNV positivity rate by Departure from normal temperature')"
      ]
     },
     "execution_count": 467,
     "metadata": {},
     "output_type": "execute_result"
    },
    {
     "data": {
      "image/png": "[encoded data removed]",
      "text/plain": [
       "<Figure size 720x288 with 1 Axes>"
      ]
     },
     "metadata": {
      "needs_background": "light"
     },
     "output_type": "display_data"
    }
   ],
   "source": [
    "df_time.groupby(['Depart'])['WnvPresent'].mean().sort_values(ascending=False)\n",
    "plt.figure(figsize=(10,4))\n",
    "\n",
    "df_time.groupby(['Depart'])['WnvPresent'].mean().plot.bar()\n",
    "plt.ylabel('WNV Positivity Rate %')\n",
    "plt.title('WNV positivity rate by Departure from normal temperature')"
   ]
  },
  {
   "cell_type": "markdown",
   "metadata": {},
   "source": [
    "### -The above four charts illustrates that as the temperature increases the the positivity rate for WNV  also increases. This could be explained by the fact that hot and dry conditions are more favorable for West Nile virus than cold and wet."
   ]
  },
  {
   "cell_type": "code",
   "execution_count": 468,
   "metadata": {},
   "outputs": [
    {
     "data": {
      "text/plain": [
       "Text(0.5, 1.0, 'WNV positivity rate by DewPoint')"
      ]
     },
     "execution_count": 468,
     "metadata": {},
     "output_type": "execute_result"
    },
    {
     "data": {
      "image/png": "[encoded data removed]",
      "text/plain": [
       "<Figure size 720x288 with 1 Axes>"
      ]
     },
     "metadata": {
      "needs_background": "light"
     },
     "output_type": "display_data"
    }
   ],
   "source": [
    "df_time.groupby(['DewPoint'])['WnvPresent'].mean().sort_values(ascending=False)\n",
    "plt.figure(figsize=(10,4))\n",
    "\n",
    "df_time.groupby(['DewPoint'])['WnvPresent'].mean().plot.bar()\n",
    "plt.ylabel('WNV Positivity Rate %')\n",
    "plt.title('WNV positivity rate by DewPoint')"
   ]
  },
  {
   "cell_type": "code",
   "execution_count": 469,
   "metadata": {},
   "outputs": [
    {
     "data": {
      "text/plain": [
       "Text(0.5, 1.0, 'WNV positivity rate by Wetbulb')"
      ]
     },
     "execution_count": 469,
     "metadata": {},
     "output_type": "execute_result"
    },
    {
     "data": {
      "image/png": "[encoded data removed]",
      "text/plain": [
       "<Figure size 720x288 with 1 Axes>"
      ]
     },
     "metadata": {
      "needs_background": "light"
     },
     "output_type": "display_data"
    }
   ],
   "source": [
    "df_time.groupby(['WetBulb'])['WnvPresent'].mean().sort_values(ascending=False)\n",
    "plt.figure(figsize=(10,4))\n",
    "df_time.groupby(['WetBulb'])['WnvPresent'].mean().plot.bar()\n",
    "plt.ylabel('WNV Positivity Rate %')\n",
    "plt.title('WNV positivity rate by Wetbulb')"
   ]
  },
  {
   "cell_type": "markdown",
   "metadata": {},
   "source": [
    "### - The distribution of WNV positivity rate over 'DewPoint' and 'WetBulb' is similar. This may indicate these two variables may be highly correlated. Besides, the positivity rate for WNV increases with both 'DewPoint' and 'WetBulb'. \n",
    "### - The possible explanation for the association between Wet bulb and WNV  is that,  Wet bulbis an indicator of evaporation rate, thus decreases in moisture, thus less mositure tends to be favourable for West Nile virus. "
   ]
  },
  {
   "cell_type": "code",
   "execution_count": 470,
   "metadata": {},
   "outputs": [
    {
     "data": {
      "text/plain": [
       "Text(0.5, 1.0, 'WNV positivity rate by Heat')"
      ]
     },
     "execution_count": 470,
     "metadata": {},
     "output_type": "execute_result"
    },
    {
     "data": {
      "image/png": "[encoded data removed]",
      "text/plain": [
       "<Figure size 432x288 with 1 Axes>"
      ]
     },
     "metadata": {
      "needs_background": "light"
     },
     "output_type": "display_data"
    }
   ],
   "source": [
    "df_time.groupby(['Heat'])['WnvPresent'].mean().sort_values(ascending=False)\n",
    "\n",
    "df_time.groupby(['Heat'])['WnvPresent'].mean().plot.bar()\n",
    "plt.ylabel('WNV Positivity Rate %')\n",
    "plt.title('WNV positivity rate by Heat')"
   ]
  },
  {
   "cell_type": "code",
   "execution_count": 471,
   "metadata": {},
   "outputs": [
    {
     "data": {
      "text/plain": [
       "Text(0.5, 1.0, 'WNV positivity rate by Coolling degree day')"
      ]
     },
     "execution_count": 471,
     "metadata": {},
     "output_type": "execute_result"
    },
    {
     "data": {
      "image/png": "[encoded data removed]",
      "text/plain": [
       "<Figure size 720x288 with 1 Axes>"
      ]
     },
     "metadata": {
      "needs_background": "light"
     },
     "output_type": "display_data"
    }
   ],
   "source": [
    "df_time.groupby(['Cool'])['WnvPresent'].mean().sort_values(ascending=False)\n",
    "plt.figure(figsize=(10,4))\n",
    "df_merged.groupby(['Cool'])['WnvPresent'].mean().plot.bar()\n",
    "plt.ylabel('WNV Positivity Rate %')\n",
    "plt.title('WNV positivity rate by Coolling degree day')"
   ]
  },
  {
   "cell_type": "markdown",
   "metadata": {},
   "source": [
    "### - WNV  positivity is associated with low heating days and high cooling days. low heating days and high cooling days are an indication of hot weather which is favorable to the WNV growth.\n",
    "### - Majority of the WNV  positivity rates occured at 0.00 heating degree days."
   ]
  },
  {
   "cell_type": "code",
   "execution_count": 473,
   "metadata": {},
   "outputs": [
    {
     "data": {
      "text/plain": [
       "Text(0.5, 1.0, 'WNV positivity rate by Sunrise')"
      ]
     },
     "execution_count": 473,
     "metadata": {},
     "output_type": "execute_result"
    },
    {
     "data": {
      "image/png": "[encoded data removed]",
      "text/plain": [
       "<Figure size 1152x288 with 1 Axes>"
      ]
     },
     "metadata": {
      "needs_background": "light"
     },
     "output_type": "display_data"
    }
   ],
   "source": [
    "df_time.groupby(['Sunrise'])['WnvPresent'].mean().sort_values(ascending=False)\n",
    "plt.figure(figsize=(16,4))\n",
    "df_time.groupby(['Sunrise'])['WnvPresent'].mean().plot.bar() \n",
    "plt.ylabel('WNV Positivity Rate %')\n",
    "plt.title('WNV positivity rate by Sunrise')"
   ]
  },
  {
   "cell_type": "markdown",
   "metadata": {},
   "source": [
    "### - There is high positivity rate when the value of sunrise is in the range of 459 to 530."
   ]
  },
  {
   "cell_type": "code",
   "execution_count": 475,
   "metadata": {},
   "outputs": [
    {
     "data": {
      "text/plain": [
       "Text(0.5, 1.0, 'WNV positivity rate by Sunset')"
      ]
     },
     "execution_count": 475,
     "metadata": {},
     "output_type": "execute_result"
    },
    {
     "data": {
      "image/png": "[encoded data removed]",
      "text/plain": [
       "<Figure size 1152x288 with 1 Axes>"
      ]
     },
     "metadata": {
      "needs_background": "light"
     },
     "output_type": "display_data"
    }
   ],
   "source": [
    "df_time.groupby(['Sunset'])['WnvPresent'].mean().sort_values(ascending=False)\n",
    "\n",
    "plt.figure(figsize=(16,4))\n",
    "df_time.groupby(['Sunset'])['WnvPresent'].mean().plot.bar()\n",
    "plt.ylabel('WNV Positivity Rate %')\n",
    "plt.title('WNV positivity rate by Sunset')"
   ]
  },
  {
   "cell_type": "markdown",
   "metadata": {},
   "source": [
    "### - There is high positivity rate when the value of sunset is in the range of 1809 to 1903."
   ]
  },
  {
   "cell_type": "code",
   "execution_count": 477,
   "metadata": {},
   "outputs": [
    {
     "data": {
      "text/plain": [
       "Text(0.5, 1.0, 'WNV positivity rate by Total Precipitation')"
      ]
     },
     "execution_count": 477,
     "metadata": {},
     "output_type": "execute_result"
    },
    {
     "data": {
      "image/png": "[encoded data removed]",
      "text/plain": [
       "<Figure size 432x288 with 1 Axes>"
      ]
     },
     "metadata": {
      "needs_background": "light"
     },
     "output_type": "display_data"
    }
   ],
   "source": [
    "df_time['PrecipTotal'] = df_time['PrecipTotal'].round(decimals=5) \n",
    "\n",
    "df_time.groupby(['PrecipTotal'])['WnvPresent'].mean().sort_values(ascending=False)\n",
    "\n",
    "df_time.groupby(['PrecipTotal'])['WnvPresent'].mean().plot.bar()\n",
    "plt.ylabel('WNV Positivity Rate %')\n",
    "plt.title('WNV positivity rate by Total Precipitation')"
   ]
  },
  {
   "cell_type": "markdown",
   "metadata": {},
   "source": [
    "### - The WNV positivity rate increases slightly with total precipitation, though the data looks bimodal. Precipitation represents an increase in moisture, which can be favourable weather condition for the growth of mosquito population."
   ]
  },
  {
   "cell_type": "code",
   "execution_count": 478,
   "metadata": {},
   "outputs": [
    {
     "data": {
      "text/plain": [
       "Text(0.5, 1.0, 'WNV positivity rate by Station Pressure')"
      ]
     },
     "execution_count": 478,
     "metadata": {},
     "output_type": "execute_result"
    },
    {
     "data": {
      "image/png": "[encoded data removed]",
      "text/plain": [
       "<Figure size 720x288 with 1 Axes>"
      ]
     },
     "metadata": {
      "needs_background": "light"
     },
     "output_type": "display_data"
    }
   ],
   "source": [
    "df_time['StnPressure'] = df_time['StnPressure'].round(decimals=7) \n",
    "df_time.groupby(['StnPressure'])['WnvPresent'].mean().sort_values(ascending=False)\n",
    "plt.figure(figsize=(10,4))\n",
    "df_time.groupby(['StnPressure'])['WnvPresent'].mean().plot.bar()\n",
    "plt.ylabel('WNV Positivity Rate %')\n",
    "plt.title('WNV positivity rate by Station Pressure')"
   ]
  },
  {
   "cell_type": "code",
   "execution_count": 479,
   "metadata": {},
   "outputs": [
    {
     "data": {
      "text/plain": [
       "Text(0.5, 1.0, 'WNV positivity rate by SeaLevel Pressure')"
      ]
     },
     "execution_count": 479,
     "metadata": {},
     "output_type": "execute_result"
    },
    {
     "data": {
      "image/png": "[encoded data removed]",
      "text/plain": [
       "<Figure size 720x288 with 1 Axes>"
      ]
     },
     "metadata": {
      "needs_background": "light"
     },
     "output_type": "display_data"
    }
   ],
   "source": [
    "df_time['SeaLevel'] = df_time['SeaLevel'].round(decimals=7)\n",
    "\n",
    "df_time.groupby(['SeaLevel'])['WnvPresent'].mean().sort_values(ascending=False)\n",
    "plt.figure(figsize=(10,4))\n",
    "df_time.groupby(['SeaLevel'])['WnvPresent'].mean().plot.bar()\n",
    "plt.ylabel('WNV Positivity Rate %')\n",
    "plt.title('WNV positivity rate by SeaLevel Pressure')"
   ]
  },
  {
   "cell_type": "markdown",
   "metadata": {},
   "source": [
    "### -From the above two charts we can understand that there is more WNV positivity rate as the 'SeaLevel' pressure and 'StnPressure' increases"
   ]
  },
  {
   "cell_type": "code",
   "execution_count": 480,
   "metadata": {},
   "outputs": [
    {
     "data": {
      "text/plain": [
       "Text(0.5, 1.0, 'WNV positivity rate by Result Speed')"
      ]
     },
     "execution_count": 480,
     "metadata": {},
     "output_type": "execute_result"
    },
    {
     "data": {
      "image/png": "[encoded data removed]",
      "text/plain": [
       "<Figure size 1152x288 with 1 Axes>"
      ]
     },
     "metadata": {
      "needs_background": "light"
     },
     "output_type": "display_data"
    }
   ],
   "source": [
    "df_time['ResultSpeed'] = df_time['ResultSpeed'].round(decimals=5)\n",
    "df_time.groupby(['ResultSpeed'])['WnvPresent'].mean().sort_values(ascending=False)\n",
    "plt.figure(figsize=(16,4))\n",
    "df_time.groupby(['ResultSpeed'])['WnvPresent'].mean().plot.bar()\n",
    "plt.ylabel('WNV Positivity Rate %')\n",
    "plt.title('WNV positivity rate by Result Speed')"
   ]
  },
  {
   "cell_type": "markdown",
   "metadata": {},
   "source": []
  },
  {
   "cell_type": "code",
   "execution_count": 481,
   "metadata": {},
   "outputs": [
    {
     "data": {
      "text/plain": [
       "Text(0.5, 1.0, 'WNV positivity rate by result direction')"
      ]
     },
     "execution_count": 481,
     "metadata": {},
     "output_type": "execute_result"
    },
    {
     "data": {
      "image/png": "[encoded data removed]",
      "text/plain": [
       "<Figure size 1152x288 with 1 Axes>"
      ]
     },
     "metadata": {
      "needs_background": "light"
     },
     "output_type": "display_data"
    }
   ],
   "source": [
    "df_time.groupby(['ResultDir'])['WnvPresent'].mean().sort_values(ascending=False)\n",
    "plt.figure(figsize=(16,4))\n",
    "df_time.groupby(['ResultDir'])['WnvPresent'].mean().plot.bar()\n",
    "plt.ylabel('WNV Positivity Rate %')\n",
    "plt.title('WNV positivity rate by result direction')"
   ]
  },
  {
   "cell_type": "code",
   "execution_count": 482,
   "metadata": {},
   "outputs": [
    {
     "data": {
      "text/plain": [
       "Text(0.5, 1.0, 'WNV positivity rate by Average Speed')"
      ]
     },
     "execution_count": 482,
     "metadata": {},
     "output_type": "execute_result"
    },
    {
     "data": {
      "image/png": "[encoded data removed]",
      "text/plain": [
       "<Figure size 1152x288 with 1 Axes>"
      ]
     },
     "metadata": {
      "needs_background": "light"
     },
     "output_type": "display_data"
    }
   ],
   "source": [
    "df_time['AvgSpeed'] = df_time['AvgSpeed'].round(decimals=5)\n",
    "df_time.groupby(['AvgSpeed'])['WnvPresent'].mean().sort_values(ascending=False)\n",
    "plt.figure(figsize=(16,4))\n",
    "df_time.groupby(['AvgSpeed'])['WnvPresent'].mean().plot.bar()\n",
    "plt.ylabel('WNV Positivity Rate %')\n",
    "plt.title('WNV positivity rate by Average Speed')"
   ]
  },
  {
   "cell_type": "markdown",
   "metadata": {},
   "source": [
    "### - From the above three charts we can infer that WNV positivity rate is evenly distributed across 'ResultSpeed', 'ResultDir', 'AvgSpeed'.\n",
    "\n"
   ]
  },
  {
   "cell_type": "markdown",
   "metadata": {},
   "source": [
    "# To Handle Outliers"
   ]
  },
  {
   "cell_type": "code",
   "execution_count": 45,
   "metadata": {
    "scrolled": true
   },
   "outputs": [
    {
     "data": {
      "text/plain": [
       "(10413, 24)"
      ]
     },
     "execution_count": 45,
     "metadata": {},
     "output_type": "execute_result"
    }
   ],
   "source": [
    "num_df = df_time.select_dtypes(include=[\"number\"])\n",
    "cat_df = df_time.select_dtypes(exclude=[\"number\"]) \n",
    "\n",
    "Q1 = num_df.quantile(0.05)\n",
    "Q3 = num_df.quantile(0.95)\n",
    "IQR = Q3 - Q1\n",
    "\n",
    "idx = ~((num_df < (Q1 - 1.5 * IQR)) | (num_df > (Q3 + 1.5 * IQR))).any(axis=1)\n",
    "wnv_cleaned = pd.concat([num_df.loc[idx], cat_df.loc[idx]], axis=1)\n",
    "\n",
    "\n",
    "wnv_cleaned.WnvPresent.value_counts()\n",
    "wnv_cleaned.shape\n"
   ]
  },
  {
   "cell_type": "markdown",
   "metadata": {},
   "source": [
    "#### - 107 rows with outliers (Q1 < 0.05 or Q3 > 0.95)  were removed from our original data frame.\n",
    "\n",
    "#### - We used the boundry of 5th percentile and 95th percentile because it is the maximum interval that includes all the WNV positives. \n",
    "\n",
    "#### - We tried to use different intervals such as 25th and 75th percentile, 10th and 90th percentile, but all of them excludes all the 551 WNV positives which inturn would make prediction impossible. \n"
   ]
  },
  {
   "cell_type": "markdown",
   "metadata": {},
   "source": [
    "# Filtering the Dataframe Based on the Value 'Species' Column"
   ]
  },
  {
   "cell_type": "markdown",
   "metadata": {},
   "source": [
    "#### - We have seven species of Culex mosquitoes, namely 'CULEX PIPIENS/RESTUANS', 'CULEX RESTUANS', 'CULEX PIPIENS',   'CULEX SALINARIUS', 'CULEX TERRITANS',  'CULEX TARSALIS', and  'CULEX ERRATICUS'. \n",
    "\n",
    "#### - Out of which only three species (CULEX PIPIENS/RESTUANS (262), CULEX PIPIENS (240), & CULEX RESTUANS (49) ) were carrying WNV. The rest four species have null value for WNV positivity. \n",
    "\n",
    "#### - Hence, we will be forced to remove these four species as they have no relevance to our prediction algorithm.\n",
    "\n"
   ]
  },
  {
   "cell_type": "code",
   "execution_count": 88,
   "metadata": {},
   "outputs": [
    {
     "data": {
      "text/plain": [
       "Index(['NumMosquitos', 'WnvPresent', 'Tmax', 'Tmin', 'Tavg', 'Depart',\n",
       "       'DewPoint', 'WetBulb', 'Heat', 'Cool', 'Sunrise', 'Sunset',\n",
       "       'PrecipTotal', 'StnPressure', 'SeaLevel', 'ResultSpeed', 'ResultDir',\n",
       "       'AvgSpeed', 'Day_of_week', 'Day_of_year', 'Week_of_year', 'Month',\n",
       "       'Quarter', 'Species'],\n",
       "      dtype='object')"
      ]
     },
     "execution_count": 88,
     "metadata": {},
     "output_type": "execute_result"
    }
   ],
   "source": [
    "wnv_cleaned.Species.unique()\n",
    "\n",
    "df_filtered = wnv_cleaned[(wnv_cleaned.Species == 'CULEX PIPIENS/RESTUANS') | (wnv_cleaned.Species == 'CULEX PIPIENS') | \n",
    "                  (wnv_cleaned.Species == 'CULEX RESTUANS')]\n",
    "\n",
    "df_filtered.Species.unique()\n",
    "\n",
    "df_filtered.WnvPresent.value_counts()\n",
    "\n",
    "df_filtered.shape\n",
    "# df_filtered.info()\n",
    "# 865 observations are filtered out \n",
    "\n",
    "# Finaly our dataframe 10085 rows, and 51 columns. All the features except 'Species' are floats and ints. \n",
    "df_filtered.columns\n",
    "# df_filtered.head()"
   ]
  },
  {
   "cell_type": "markdown",
   "metadata": {},
   "source": [
    "# FEATURE ENGINEERING"
   ]
  },
  {
   "cell_type": "code",
   "execution_count": 89,
   "metadata": {},
   "outputs": [
    {
     "data": {
      "text/plain": [
       "(10099, 248)"
      ]
     },
     "execution_count": 89,
     "metadata": {},
     "output_type": "execute_result"
    }
   ],
   "source": [
    "# let's create 1-14 lag variables for each of the 16 weather variables\n",
    "\n",
    "cols =['Tmax', 'Tmin', 'Tavg', 'Depart', 'DewPoint', 'WetBulb', 'Heat', 'Cool', 'Sunrise', 'Sunset',  \n",
    "       'PrecipTotal', 'StnPressure', 'SeaLevel', 'ResultSpeed', 'ResultDir', 'AvgSpeed']\n",
    "\n",
    "time = range(1, 15)\n",
    "\n",
    "df_lag = df_filtered.assign(**{'{} (lag_{})'.format(col, t): df_filtered[col].shift(t)\n",
    "    for t in time\n",
    "    for col in cols\n",
    "})\n",
    "\n",
    "df_lag.shape\n",
    "\n",
    "# We have a total of 10099 rows and 248 columns\n",
    "\n",
    "\n",
    "# The next step is to fill the nan values of the lag variable by their respective column median\n",
    "\n",
    "# columns to be dropped i.e. that doesn't need fillna\n",
    "\n",
    "org_cols =['Species', 'NumMosquitos', 'WnvPresent', 'Tmax', 'Tmin', 'Tavg', 'Depart', 'DewPoint', \n",
    "       'WetBulb', 'Heat', 'Cool', 'Sunrise', 'Sunset', 'PrecipTotal', 'StnPressure', 'SeaLevel', \n",
    "       'ResultSpeed', 'ResultDir', 'AvgSpeed', 'Day_of_week', 'Day_of_year', 'Week_of_year', 'Month', 'Quarter']\n",
    "\n",
    "\n",
    "fill_cols = df_lag.drop(org_cols, axis=1).columns       # columns to be filled\n",
    "\n",
    "len(fill_cols)      # check that the number of lag variables are 224\n",
    "\n",
    "\n",
    "for col in fill_cols:\n",
    "    df_lag[col].fillna(df_lag[col].median(), inplace=True)\n",
    "    \n",
    "    \n",
    "df_lag.isnull().any().sum()   # chech whether the nan values are filled completely worked very well\n",
    "\n",
    "df_lag.head()\n",
    "df_lag.shape"
   ]
  },
  {
   "cell_type": "markdown",
   "metadata": {},
   "source": [
    "# Undersampling"
   ]
  },
  {
   "cell_type": "code",
   "execution_count": 48,
   "metadata": {},
   "outputs": [
    {
     "data": {
      "text/plain": [
       "0    2204\n",
       "1     551\n",
       "Name: WnvPresent, dtype: int64"
      ]
     },
     "execution_count": 48,
     "metadata": {},
     "output_type": "execute_result"
    }
   ],
   "source": [
    "df_lag.WnvPresent.value_counts()\n",
    "# Since the propotion of WNV positives is 5.45%, our dataset is imbalanced. Hence in order to balance it, \n",
    "# we will use undersampling so that we can have a ratio 1 WNV positive to 4 WNV negatives. \n",
    "\n",
    "# 1. Find Number of samples which are WNV negatives which is four times that of WNV positives\n",
    "\n",
    "len_no_wnv = (len(df_lag[df_lag.WnvPresent == 1])) * 4\n",
    "\n",
    "# 2. Get indices of WNV negatives\n",
    "no_wnv_indices = df_lag[df_lag.WnvPresent == 0].index\n",
    "\n",
    "# 3. Random sample WNV negatives without replacement by making the replace option equal to False\n",
    "random_indices = np.random.choice(no_wnv_indices, len_no_wnv, replace = False)\n",
    "\n",
    "# 4. Get indices of WNV positives\n",
    "wnv_indices = df_lag[df_lag.WnvPresent == 1].index\n",
    "\n",
    "# 5. Concatenate indices of WNV negatives and WNV positives\n",
    "under_sample_indices = np.concatenate([random_indices, wnv_indices])\n",
    "\n",
    "# 6. Finally get Balance Dataframe\n",
    "df_balanced = df_lag.loc[under_sample_indices]\n",
    "\n",
    "\n",
    "df_balanced.shape            # We finally got 2755 rows and 248 columns\n",
    "\n",
    "df_balanced.WnvPresent.value_counts()  # The total WNV positives (551) and WNV negatives(2204) is now in a ratio of 1:4"
   ]
  },
  {
   "cell_type": "markdown",
   "metadata": {},
   "source": [
    "## Visualising Undersampled Data"
   ]
  },
  {
   "cell_type": "code",
   "execution_count": 49,
   "metadata": {
    "scrolled": true
   },
   "outputs": [
    {
     "data": {
      "text/plain": [
       "<matplotlib.axes._subplots.AxesSubplot at 0x266cf183438>"
      ]
     },
     "execution_count": 49,
     "metadata": {},
     "output_type": "execute_result"
    },
    {
     "data": {
      "image/png": "[encoded data removed]",
      "text/plain": [
       "<Figure size 432x288 with 1 Axes>"
      ]
     },
     "metadata": {
      "needs_background": "light"
     },
     "output_type": "display_data"
    }
   ],
   "source": [
    "df_balanced.groupby(['WnvPresent'])['WnvPresent'].count().plot.bar()"
   ]
  },
  {
   "cell_type": "markdown",
   "metadata": {},
   "source": [
    "# Handling Categorical Variables"
   ]
  },
  {
   "cell_type": "code",
   "execution_count": 50,
   "metadata": {},
   "outputs": [
    {
     "data": {
      "text/plain": [
       "(2755, 250)"
      ]
     },
     "execution_count": 50,
     "metadata": {},
     "output_type": "execute_result"
    }
   ],
   "source": [
    "# We have one categorical variable ('Species') that needs to be converted by using pandas get dummies   \n",
    "# before we proceed to the machine learning part. \n",
    "\n",
    "df_dumy=pd.get_dummies(df_balanced)\n",
    "\n",
    "df_dumy.shape\n",
    "# df_dumy.head()"
   ]
  },
  {
   "cell_type": "markdown",
   "metadata": {},
   "source": [
    "# Train Test Split"
   ]
  },
  {
   "cell_type": "code",
   "execution_count": 51,
   "metadata": {},
   "outputs": [
    {
     "data": {
      "text/plain": [
       "(1928, 250)"
      ]
     },
     "execution_count": 51,
     "metadata": {},
     "output_type": "execute_result"
    }
   ],
   "source": [
    "\n",
    "y = df_dumy['WnvPresent']\n",
    "X = df_dumy.drop('WnvPresent', axis=1)\n",
    "\n",
    "# let's split our data in to train(70%) and test (30)\n",
    "\n",
    "X_train, X_test, y_train, y_test = train_test_split(X, y, test_size=0.3, random_state=16)\n",
    "\n",
    "\n",
    "# (X_train.shape, X_test.shape) , (y_train.shape, y_test.shape)\n",
    "# X_train.columns\n",
    "\n",
    "train_df = pd.concat([X_train, y_train], axis=1 )\n",
    "\n",
    "train_df.head()\n",
    "train_df.shape\n",
    "# X_train.shape"
   ]
  },
  {
   "cell_type": "markdown",
   "metadata": {},
   "source": [
    "# Attribute Relevance Analysis"
   ]
  },
  {
   "cell_type": "code",
   "execution_count": 52,
   "metadata": {},
   "outputs": [
    {
     "data": {
      "text/plain": [
       "0"
      ]
     },
     "execution_count": 52,
     "metadata": {},
     "output_type": "execute_result"
    }
   ],
   "source": [
    "# There are two pre-requisites for calculating the 'Information value'. \n",
    "# 1) The first one making sure that there is no missing value\n",
    "\n",
    "train_df.isnull().any().sum()  # we don't have any missing value. We can proceed to the second pre-requisite\n",
    "\n",
    "\n"
   ]
  },
  {
   "cell_type": "code",
   "execution_count": 53,
   "metadata": {},
   "outputs": [],
   "source": [
    "# 2) The second pre-requisite is thay there should not be any continuous attributes.\n",
    "\n",
    "# We will ctegorize our variables in to either two bins or 5 bins. 'Heat', and 'PrecipTotal' can not be binned in to \n",
    "# five variables. Hence, we will bin them in two classes by using pd.cut. Initially we tried to use pd.qcut \n",
    "# but it is unable to bin it. \n",
    "\n",
    "dicotomy = ['Heat', 'Heat (lag_1)', 'Heat (lag_2)', 'Heat (lag_3)', 'Heat (lag_4)', 'Heat (lag_5)', 'Heat (lag_6)',\n",
    "'Heat (lag_7)', 'Heat (lag_8)', 'Heat (lag_9)', 'Heat (lag_10)', 'Heat (lag_11)', 'Heat (lag_12)', 'Heat (lag_13)',\n",
    "'Heat (lag_14)', 'PrecipTotal', 'PrecipTotal (lag_1)', 'PrecipTotal (lag_2)', 'PrecipTotal (lag_3)', 'PrecipTotal (lag_4)', \n",
    "'PrecipTotal (lag_5)', 'PrecipTotal (lag_6)', 'PrecipTotal (lag_7)', 'PrecipTotal (lag_8)', 'PrecipTotal (lag_9)', \n",
    " 'PrecipTotal (lag_10)', 'PrecipTotal (lag_11)', 'PrecipTotal (lag_12)', 'PrecipTotal (lag_13)', 'PrecipTotal (lag_14)']\n",
    "\n",
    "\n",
    "\n",
    "df_bin_cut = train_df.assign(**{'{}'.format(col): pd.cut(train_df[col], 2, duplicates='drop')\n",
    "    for col in dicotomy\n",
    "})\n",
    "\n",
    "\n"
   ]
  },
  {
   "cell_type": "code",
   "execution_count": 90,
   "metadata": {},
   "outputs": [
    {
     "data": {
      "text/plain": [
       "(1928, 250)"
      ]
     },
     "execution_count": 90,
     "metadata": {},
     "output_type": "execute_result"
    }
   ],
   "source": [
    "# The  rest valriables will be grouped in to five bins using pd.qcut\n",
    "\n",
    "catg=['NumMosquitos', 'Day_of_week', 'Day_of_year', 'Week_of_year', 'Month', 'Quarter', 'WnvPresent', 'Heat', 'Heat (lag_1)', 'Heat (lag_2)', 'Heat (lag_3)', 'Heat (lag_4)', 'Heat (lag_5)', 'Heat (lag_6)',\n",
    "'Heat (lag_7)', 'Heat (lag_8)', 'Heat (lag_9)', 'Heat (lag_10)', 'Heat (lag_11)', 'Heat (lag_12)', 'Heat (lag_13)',\n",
    "'Heat (lag_14)', 'PrecipTotal', 'PrecipTotal (lag_1)', 'PrecipTotal (lag_2)', 'PrecipTotal (lag_3)', 'PrecipTotal (lag_4)', \n",
    "'PrecipTotal (lag_5)', 'PrecipTotal (lag_6)', 'PrecipTotal (lag_7)', 'PrecipTotal (lag_8)', 'PrecipTotal (lag_9)', \n",
    " 'PrecipTotal (lag_10)', 'PrecipTotal (lag_11)', 'PrecipTotal (lag_12)', 'PrecipTotal (lag_13)', 'PrecipTotal (lag_14)']\n",
    "\n",
    "qcut_five = train_df.drop(catg, axis=1).columns\n",
    "\n",
    "\n",
    "df_bin_all = df_bin_cut.assign(**{'{}'.format(col): pd.qcut(df_bin_cut[col], 5, duplicates='drop')\n",
    "    for col in qcut_five\n",
    "})\n",
    "\n",
    "\n",
    "df_binned_final = df_bin_all.select_dtypes(exclude=['float64'])\n",
    "\n",
    "df_binned_final.shape\n"
   ]
  },
  {
   "cell_type": "code",
   "execution_count": 55,
   "metadata": {},
   "outputs": [],
   "source": [
    "# Lets use the following function to calvculate the IV score. \n",
    "\n",
    "\n",
    "def calculate_woe_iv(dataset, feature, target):\n",
    "    lst = []\n",
    "    for i in range(dataset[feature].nunique()):\n",
    "        val = list(dataset[feature].unique())[i]\n",
    "        lst.append({\n",
    "            'Value': val,\n",
    "            'All': dataset[dataset[feature] == val].count()[feature],\n",
    "            'Good': dataset[(dataset[feature] == val) & (dataset[target] == 0)].count()[feature],\n",
    "            'Bad': dataset[(dataset[feature] == val) & (dataset[target] == 1)].count()[feature]\n",
    "        })\n",
    "    dset = pd.DataFrame(lst)\n",
    "    dset['Distr_Good'] = dset['Good'] / dset['Good'].sum()\n",
    "    dset['Distr_Bad'] = dset['Bad'] / dset['Bad'].sum()\n",
    "    dset['WoE'] = np.log(dset['Distr_Good'] / dset['Distr_Bad'])\n",
    "    dset = dset.replace({'WoE': {np.inf: 0, -np.inf: 0}})\n",
    "    dset['IV'] = (dset['Distr_Good'] - dset['Distr_Bad']) * dset['WoE']\n",
    "    iv = dset['IV'].sum()\n",
    "    \n",
    "    dset = dset.sort_values(by='WoE')\n",
    "    \n",
    "    return dset, iv"
   ]
  },
  {
   "cell_type": "code",
   "execution_count": 56,
   "metadata": {},
   "outputs": [],
   "source": [
    "# let's apply the function stated above to our binned dataframe\n",
    "\n",
    "iv_list = []\n",
    "colss=list(df_binned_final.columns)\n",
    "\n",
    "for col in colss:\n",
    "    if col == 'WnvPresent': continue\n",
    "    else:\n",
    "        df, iv = calculate_woe_iv(df_binned_final, col, 'WnvPresent')\n",
    "        if (iv > 0.01) and (iv < 0.8):\n",
    "            iv_list.append(col) \n"
   ]
  },
  {
   "cell_type": "code",
   "execution_count": 100,
   "metadata": {},
   "outputs": [
    {
     "data": {
      "text/plain": [
       "199"
      ]
     },
     "execution_count": 100,
     "metadata": {},
     "output_type": "execute_result"
    }
   ],
   "source": [
    "len(iv_list)          # We got 199 variables with IV-score 0.01 - 0.8\n",
    "# iv_list"
   ]
  },
  {
   "cell_type": "markdown",
   "metadata": {},
   "source": [
    "\n",
    "# To check Correlation\n"
   ]
  },
  {
   "cell_type": "code",
   "execution_count": 99,
   "metadata": {},
   "outputs": [
    {
     "name": "stdout",
     "output_type": "stream",
     "text": [
      "<class 'pandas.core.frame.DataFrame'>\n",
      "Int64Index: 1928 entries, 5750 to 10240\n",
      "Columns: 250 entries, NumMosquitos to WnvPresent\n",
      "dtypes: float64(250)\n",
      "memory usage: 3.7 MB\n"
     ]
    },
    {
     "data": {
      "text/plain": [
       "74"
      ]
     },
     "execution_count": 99,
     "metadata": {},
     "output_type": "execute_result"
    }
   ],
   "source": [
    "tr_df=train_df.astype(float)\n",
    "tr_df.info()\n",
    "\n",
    "ff=abs(train_df.corr().WnvPresent)\n",
    "ftr=tr_df.columns\n",
    "high_cor=[]\n",
    "for x in ftr:\n",
    "    if abs(tr_df[x].corr(tr_df['WnvPresent'])) > 0.11:\n",
    "        high_cor.append(x)\n",
    "\n",
    "len(high_cor)     # we got 58 variables with corrolation value > 0.1\n",
    "# 'WnvPresent' in high_cor\n",
    "\n"
   ]
  },
  {
   "cell_type": "markdown",
   "metadata": {},
   "source": [
    "# Feature Selection"
   ]
  },
  {
   "cell_type": "code",
   "execution_count": 101,
   "metadata": {},
   "outputs": [
    {
     "data": {
      "text/plain": [
       "219"
      ]
     },
     "execution_count": 101,
     "metadata": {},
     "output_type": "execute_result"
    }
   ],
   "source": [
    "# Now we will select variables with IV score between 0.01 & 0.8 as well as corrolation value > 0.11\n",
    "\n",
    "selected_features = list(set(iv_list).union(high_cor))\n",
    "\n",
    "len(selected_features)      \n",
    "\n",
    "\n",
    "# finaly we got 72 variables with IV score between 0.01 & 0.8 as well as corrolation value > 0.11  \n",
    "\n"
   ]
  },
  {
   "cell_type": "code",
   "execution_count": 104,
   "metadata": {},
   "outputs": [
    {
     "data": {
      "text/plain": [
       "(1928, 218)"
      ]
     },
     "execution_count": 104,
     "metadata": {},
     "output_type": "execute_result"
    }
   ],
   "source": [
    "# remove the target variable from the dataset so that we will be left with the 'X_train' data and \n",
    "# tehn calculate the variance inflation factor\n",
    "\n",
    "df_iv_cor = train_df[selected_features]\n",
    "\n",
    "df_iv_cor.shape\n",
    "\n",
    "df_iv_cor_trainx = df_iv_cor.drop('WnvPresent', axis=1)\n",
    "\n",
    "df_iv_cor_trainx.shape"
   ]
  },
  {
   "cell_type": "markdown",
   "metadata": {},
   "source": [
    "# Variance Inflation Factor (VIF)"
   ]
  },
  {
   "cell_type": "code",
   "execution_count": 105,
   "metadata": {},
   "outputs": [],
   "source": [
    "# import the necessary tools from statsmodels that helps us to calculate the VIF.\n",
    "\n",
    "import statsmodels.api as sm\n",
    "from statsmodels.stats.outliers_influence import variance_inflation_factor \n",
    "\n",
    "# By using the folloeing function we will calculate the VIF for each features\n",
    "\n",
    "#####\n",
    "def iterate_vif(df, vif_threshold=5, max_vif=6):\n",
    "  count = 0\n",
    "  while max_vif > vif_threshold:\n",
    "    count += 1\n",
    "    print(\"Iteration # \"+str(count))\n",
    "    vif = pd.DataFrame()\n",
    "    vif[\"VIFactor\"] = [variance_inflation_factor(df.values, i) for i in range(df.shape[1])]\n",
    "    vif[\"features\"] = df.columns\n",
    "    \n",
    "    if vif['VIFactor'].max().round(1) > vif_threshold:\n",
    "      print('Removing %s with VIF of %f' % (vif[vif['VIFactor'] == vif['VIFactor'].max()]['features'].values[0], vif['VIFactor'].max().round(1)))\n",
    "      df = df.drop(vif[vif['VIFactor'] == vif['VIFactor'].max()]['features'].values[0], axis=1)\n",
    "      max_vif = vif['VIFactor'].max().round(1)\n",
    "    else:\n",
    "        print('Complete')\n",
    "        return df, vif.sort_values('VIFactor').round(1)\n",
    "    \n",
    "  #####  "
   ]
  },
  {
   "cell_type": "code",
   "execution_count": 62,
   "metadata": {},
   "outputs": [
    {
     "name": "stdout",
     "output_type": "stream",
     "text": [
      "Iteration # 1\n"
     ]
    },
    {
     "name": "stderr",
     "output_type": "stream",
     "text": [
      "C:\\Users\\freta\\Anaconda3\\lib\\site-packages\\statsmodels\\stats\\outliers_influence.py:181: RuntimeWarning: divide by zero encountered in double_scalars\n",
      "  vif = 1. / (1. - r_squared_i)\n"
     ]
    },
    {
     "name": "stdout",
     "output_type": "stream",
     "text": [
      "Removing Depart (lag_6) with VIF of inf\n",
      "Iteration # 2\n",
      "Removing Heat (lag_4) with VIF of inf\n",
      "Iteration # 3\n",
      "Removing Tavg (lag_10) with VIF of inf\n",
      "Iteration # 4\n",
      "Removing Tavg (lag_14) with VIF of inf\n",
      "Iteration # 5\n",
      "Removing Heat (lag_12) with VIF of inf\n",
      "Iteration # 6\n",
      "Removing Tavg (lag_2) with VIF of inf\n",
      "Iteration # 7\n",
      "Removing Heat (lag_6) with VIF of inf\n",
      "Iteration # 8\n",
      "Removing Tavg (lag_3) with VIF of inf\n",
      "Iteration # 9\n",
      "Removing Cool (lag_11) with VIF of inf\n",
      "Iteration # 10\n",
      "Removing Cool (lag_7) with VIF of inf\n",
      "Iteration # 11\n",
      "Removing Tavg (lag_1) with VIF of inf\n",
      "Iteration # 12\n",
      "Removing Cool (lag_5) with VIF of inf\n",
      "Iteration # 13\n",
      "Removing Heat (lag_8) with VIF of inf\n",
      "Iteration # 14\n",
      "Removing Heat (lag_13) with VIF of inf\n",
      "Iteration # 15\n",
      "Removing Cool with VIF of inf\n",
      "Iteration # 16\n",
      "Removing Tavg (lag_9) with VIF of 239318760.200000\n",
      "Iteration # 17\n",
      "Removing StnPressure (lag_12) with VIF of 44815949959.400002\n",
      "Iteration # 18\n",
      "Removing SeaLevel (lag_1) with VIF of 25046087604.400002\n",
      "Iteration # 19\n",
      "Removing SeaLevel (lag_13) with VIF of 12866637127.600000\n",
      "Iteration # 20\n",
      "Removing SeaLevel (lag_8) with VIF of 10749948685.799999\n",
      "Iteration # 21\n",
      "Removing SeaLevel (lag_9) with VIF of 4710821603.500000\n",
      "Iteration # 22\n",
      "Removing SeaLevel (lag_10) with VIF of 2603486593.100000\n",
      "Iteration # 23\n",
      "Removing SeaLevel (lag_2) with VIF of 2418379615.400000\n",
      "Iteration # 24\n",
      "Removing StnPressure (lag_5) with VIF of 2020202306.200000\n",
      "Iteration # 25\n",
      "Removing StnPressure (lag_11) with VIF of 1785001415.900000\n",
      "Iteration # 26\n",
      "Removing SeaLevel (lag_3) with VIF of 1717985280.000000\n",
      "Iteration # 27\n",
      "Removing SeaLevel (lag_6) with VIF of 1293429039.700000\n",
      "Iteration # 28\n",
      "Removing StnPressure (lag_7) with VIF of 772580298.000000\n",
      "Iteration # 29\n",
      "Removing SeaLevel (lag_4) with VIF of 587461068.900000\n",
      "Iteration # 30\n",
      "Removing SeaLevel (lag_14) with VIF of 244872619.000000\n",
      "Iteration # 31\n",
      "Removing StnPressure (lag_8) with VIF of 189855892.400000\n",
      "Iteration # 32\n",
      "Removing Tavg (lag_5) with VIF of 186710488.400000\n",
      "Iteration # 33\n",
      "Removing StnPressure with VIF of 151184662.700000\n",
      "Iteration # 34\n",
      "Removing SeaLevel (lag_11) with VIF of 110332930.600000\n",
      "Iteration # 35\n",
      "Removing Tavg (lag_7) with VIF of 82841162.700000\n",
      "Iteration # 36\n",
      "Removing Tavg (lag_12) with VIF of 80686540.600000\n",
      "Iteration # 37\n",
      "Removing Tavg (lag_4) with VIF of 68048750.200000\n",
      "Iteration # 38\n",
      "Removing StnPressure (lag_1) with VIF of 58907552.700000\n",
      "Iteration # 39\n",
      "Removing StnPressure (lag_9) with VIF of 53643503.900000\n",
      "Iteration # 40\n",
      "Removing StnPressure (lag_4) with VIF of 52102056.600000\n",
      "Iteration # 41\n",
      "Removing WetBulb (lag_6) with VIF of 45327816.100000\n",
      "Iteration # 42\n",
      "Removing Tavg (lag_13) with VIF of 36067472.300000\n",
      "Iteration # 43\n",
      "Removing StnPressure (lag_13) with VIF of 35214878.200000\n",
      "Iteration # 44\n",
      "Removing Tavg (lag_8) with VIF of 29233734.400000\n",
      "Iteration # 45\n",
      "Removing StnPressure (lag_10) with VIF of 28773007.300000\n",
      "Iteration # 46\n",
      "Removing SeaLevel (lag_7) with VIF of 27309790.500000\n",
      "Iteration # 47\n",
      "Removing StnPressure (lag_3) with VIF of 25882701.600000\n",
      "Iteration # 48\n",
      "Removing WetBulb (lag_13) with VIF of 23682268.300000\n",
      "Iteration # 49\n",
      "Removing WetBulb (lag_7) with VIF of 20073972.600000\n",
      "Iteration # 50\n",
      "Removing Tmax (lag_2) with VIF of 18608641.700000\n",
      "Iteration # 51\n",
      "Removing SeaLevel (lag_5) with VIF of 17077427.400000\n",
      "Iteration # 52\n",
      "Removing WetBulb (lag_1) with VIF of 16065283.700000\n",
      "Iteration # 53\n",
      "Removing Tavg (lag_6) with VIF of 15346396.200000\n",
      "Iteration # 54\n",
      "Removing StnPressure (lag_2) with VIF of 11725259.900000\n",
      "Iteration # 55\n",
      "Removing WetBulb (lag_12) with VIF of 10867542.700000\n",
      "Iteration # 56\n",
      "Removing Tavg with VIF of 10278639.200000\n",
      "Iteration # 57\n",
      "Removing WetBulb (lag_4) with VIF of 9460000.400000\n",
      "Iteration # 58\n",
      "Removing Tmax (lag_9) with VIF of 8326626.000000\n",
      "Iteration # 59\n",
      "Removing SeaLevel (lag_12) with VIF of 7404893.900000\n",
      "Iteration # 60\n",
      "Removing Tmax (lag_3) with VIF of 6053247.800000\n",
      "Iteration # 61\n",
      "Removing WetBulb (lag_11) with VIF of 5731703.100000\n",
      "Iteration # 62\n",
      "Removing StnPressure (lag_6) with VIF of 5622103.600000\n",
      "Iteration # 63\n",
      "Removing WetBulb (lag_2) with VIF of 5285037.400000\n",
      "Iteration # 64\n",
      "Removing WetBulb (lag_8) with VIF of 4251919.100000\n",
      "Iteration # 65\n",
      "Removing Sunrise (lag_13) with VIF of 3870008.700000\n",
      "Iteration # 66\n",
      "Removing WetBulb (lag_10) with VIF of 3719203.500000\n",
      "Iteration # 67\n",
      "Removing Sunrise (lag_4) with VIF of 3557200.300000\n",
      "Iteration # 68\n",
      "Removing Tmax (lag_10) with VIF of 3316372.600000\n",
      "Iteration # 69\n",
      "Removing WetBulb (lag_3) with VIF of 2997951.600000\n",
      "Iteration # 70\n",
      "Removing Sunrise (lag_12) with VIF of 2353464.200000\n",
      "Iteration # 71\n",
      "Removing Sunrise (lag_5) with VIF of 2254868.500000\n",
      "Iteration # 72\n",
      "Removing Tmax (lag_1) with VIF of 2105111.100000\n",
      "Iteration # 73\n",
      "Removing Tmax (lag_14) with VIF of 2041452.000000\n",
      "Iteration # 74\n",
      "Removing WetBulb (lag_5) with VIF of 1730513.100000\n",
      "Iteration # 75\n",
      "Removing SeaLevel with VIF of 1510628.700000\n",
      "Iteration # 76\n",
      "Removing Tmax (lag_12) with VIF of 1414910.500000\n",
      "Iteration # 77\n",
      "Removing WetBulb (lag_9) with VIF of 1038867.100000\n",
      "Iteration # 78\n",
      "Removing Sunrise (lag_1) with VIF of 1011222.400000\n",
      "Iteration # 79\n",
      "Removing Sunrise (lag_8) with VIF of 840954.900000\n",
      "Iteration # 80\n",
      "Removing Tmin (lag_5) with VIF of 704692.900000\n",
      "Iteration # 81\n",
      "Removing Tmin with VIF of 562458.400000\n",
      "Iteration # 82\n",
      "Removing Tmax (lag_8) with VIF of 540243.200000\n",
      "Iteration # 83\n",
      "Removing Tmax (lag_11) with VIF of 497451.400000\n",
      "Iteration # 84\n",
      "Removing Tmin (lag_7) with VIF of 470888.200000\n",
      "Iteration # 85\n",
      "Removing Sunrise (lag_3) with VIF of 453402.000000\n",
      "Iteration # 86\n",
      "Removing Tavg (lag_11) with VIF of 366288.300000\n",
      "Iteration # 87\n",
      "Removing Tmin (lag_4) with VIF of 313004.200000\n",
      "Iteration # 88\n",
      "Removing Sunrise (lag_2) with VIF of 293224.700000\n",
      "Iteration # 89\n",
      "Removing Tmin (lag_9) with VIF of 274451.400000\n",
      "Iteration # 90\n",
      "Removing Tmin (lag_2) with VIF of 269363.700000\n",
      "Iteration # 91\n",
      "Removing WetBulb with VIF of 255048.000000\n",
      "Iteration # 92\n",
      "Removing Tmin (lag_11) with VIF of 238926.000000\n",
      "Iteration # 93\n",
      "Removing Tmax (lag_13) with VIF of 237043.800000\n",
      "Iteration # 94\n",
      "Removing Tmax (lag_4) with VIF of 193906.700000\n",
      "Iteration # 95\n",
      "Removing Sunrise (lag_11) with VIF of 182234.300000\n",
      "Iteration # 96\n",
      "Removing Sunrise (lag_7) with VIF of 175845.200000\n",
      "Iteration # 97\n",
      "Removing Tmin (lag_13) with VIF of 153624.700000\n",
      "Iteration # 98\n",
      "Removing Tmax (lag_7) with VIF of 153495.800000\n",
      "Iteration # 99\n",
      "Removing Tmax (lag_6) with VIF of 128235.400000\n",
      "Iteration # 100\n",
      "Removing Tmin (lag_10) with VIF of 121652.600000\n",
      "Iteration # 101\n",
      "Removing Sunrise (lag_10) with VIF of 120466.900000\n",
      "Iteration # 102\n",
      "Removing Tmin (lag_1) with VIF of 100383.200000\n",
      "Iteration # 103\n",
      "Removing Tmin (lag_6) with VIF of 88529.700000\n",
      "Iteration # 104\n",
      "Removing Sunrise (lag_6) with VIF of 83908.700000\n",
      "Iteration # 105\n",
      "Removing StnPressure (lag_14) with VIF of 78525.400000\n",
      "Iteration # 106\n",
      "Removing Tmin (lag_12) with VIF of 71980.600000\n",
      "Iteration # 107\n",
      "Removing DewPoint (lag_12) with VIF of 51195.900000\n",
      "Iteration # 108\n",
      "Removing Sunrise (lag_9) with VIF of 49302.800000\n",
      "Iteration # 109\n",
      "Removing DewPoint (lag_1) with VIF of 45646.300000\n",
      "Iteration # 110\n",
      "Removing DewPoint (lag_5) with VIF of 44803.600000\n",
      "Iteration # 111\n",
      "Removing DewPoint (lag_8) with VIF of 43900.700000\n",
      "Iteration # 112\n",
      "Removing DewPoint (lag_3) with VIF of 40999.200000\n",
      "Iteration # 113\n",
      "Removing DewPoint (lag_13) with VIF of 38050.300000\n",
      "Iteration # 114\n",
      "Removing Tmin (lag_8) with VIF of 37942.900000\n",
      "Iteration # 115\n",
      "Removing DewPoint (lag_10) with VIF of 37520.500000\n",
      "Iteration # 116\n",
      "Removing WetBulb (lag_14) with VIF of 37240.200000\n",
      "Iteration # 117\n",
      "Removing Tmax (lag_5) with VIF of 29160.900000\n",
      "Iteration # 118\n",
      "Removing Day_of_year with VIF of 28030.600000\n",
      "Iteration # 119\n",
      "Removing Cool (lag_13) with VIF of 22854.000000\n",
      "Iteration # 120\n",
      "Removing DewPoint (lag_6) with VIF of 22766.100000\n",
      "Iteration # 121\n",
      "Removing DewPoint (lag_2) with VIF of 21276.400000\n",
      "Iteration # 122\n",
      "Removing AvgSpeed (lag_9) with VIF of 20199.400000\n",
      "Iteration # 123\n",
      "Removing DewPoint (lag_9) with VIF of 18615.000000\n",
      "Iteration # 124\n",
      "Removing AvgSpeed (lag_6) with VIF of 16020.200000\n",
      "Iteration # 125\n",
      "Removing AvgSpeed (lag_1) with VIF of 14816.500000\n",
      "Iteration # 126\n",
      "Removing Sunrise with VIF of 13633.800000\n",
      "Iteration # 127\n"
     ]
    },
    {
     "name": "stdout",
     "output_type": "stream",
     "text": [
      "Removing DewPoint (lag_11) with VIF of 12321.600000\n",
      "Iteration # 128\n",
      "Removing DewPoint (lag_4) with VIF of 11304.200000\n",
      "Iteration # 129\n",
      "Removing Cool (lag_2) with VIF of 10124.800000\n",
      "Iteration # 130\n",
      "Removing AvgSpeed (lag_12) with VIF of 9824.700000\n",
      "Iteration # 131\n",
      "Removing Cool (lag_9) with VIF of 9733.200000\n",
      "Iteration # 132\n",
      "Removing Tmin (lag_14) with VIF of 8748.700000\n",
      "Iteration # 133\n",
      "Removing AvgSpeed (lag_8) with VIF of 7644.100000\n",
      "Iteration # 134\n",
      "Removing AvgSpeed (lag_3) with VIF of 7603.300000\n",
      "Iteration # 135\n",
      "Removing AvgSpeed (lag_13) with VIF of 6167.200000\n",
      "Iteration # 136\n",
      "Removing Cool (lag_3) with VIF of 5748.200000\n",
      "Iteration # 137\n",
      "Removing DewPoint (lag_7) with VIF of 5556.800000\n",
      "Iteration # 138\n",
      "Removing Cool (lag_12) with VIF of 4668.000000\n",
      "Iteration # 139\n",
      "Removing AvgSpeed (lag_10) with VIF of 4246.700000\n",
      "Iteration # 140\n",
      "Removing AvgSpeed (lag_2) with VIF of 3587.100000\n",
      "Iteration # 141\n",
      "Removing Cool (lag_8) with VIF of 3508.700000\n",
      "Iteration # 142\n",
      "Removing AvgSpeed (lag_5) with VIF of 3286.000000\n",
      "Iteration # 143\n",
      "Removing Cool (lag_4) with VIF of 2653.500000\n",
      "Iteration # 144\n",
      "Removing AvgSpeed (lag_11) with VIF of 2351.900000\n",
      "Iteration # 145\n",
      "Removing Cool (lag_10) with VIF of 2053.600000\n",
      "Iteration # 146\n",
      "Removing Sunrise (lag_14) with VIF of 1945.600000\n",
      "Iteration # 147\n",
      "Removing ResultSpeed (lag_4) with VIF of 1668.100000\n",
      "Iteration # 148\n",
      "Removing Heat (lag_1) with VIF of 1599.200000\n",
      "Iteration # 149\n",
      "Removing DewPoint with VIF of 1473.900000\n",
      "Iteration # 150\n",
      "Removing ResultDir (lag_5) with VIF of 1447.300000\n",
      "Iteration # 151\n",
      "Removing ResultSpeed (lag_8) with VIF of 1203.400000\n",
      "Iteration # 152\n",
      "Removing AvgSpeed (lag_7) with VIF of 1189.900000\n",
      "Iteration # 153\n",
      "Removing Month with VIF of 1015.700000\n",
      "Iteration # 154\n",
      "Removing ResultSpeed (lag_13) with VIF of 999.800000\n",
      "Iteration # 155\n",
      "Removing ResultSpeed (lag_5) with VIF of 987.300000\n",
      "Iteration # 156\n",
      "Removing Depart (lag_1) with VIF of 884.000000\n",
      "Iteration # 157\n",
      "Removing ResultSpeed (lag_10) with VIF of 792.700000\n",
      "Iteration # 158\n",
      "Removing ResultDir (lag_8) with VIF of 790.500000\n",
      "Iteration # 159\n",
      "Removing ResultDir (lag_12) with VIF of 783.300000\n",
      "Iteration # 160\n",
      "Removing ResultSpeed (lag_2) with VIF of 706.200000\n",
      "Iteration # 161\n",
      "Removing ResultDir (lag_2) with VIF of 671.000000\n",
      "Iteration # 162\n",
      "Removing AvgSpeed (lag_4) with VIF of 659.200000\n",
      "Iteration # 163\n",
      "Removing Tmin (lag_3) with VIF of 643.000000\n",
      "Iteration # 164\n",
      "Removing ResultDir (lag_6) with VIF of 608.700000\n",
      "Iteration # 165\n",
      "Removing Depart (lag_10) with VIF of 581.200000\n",
      "Iteration # 166\n",
      "Removing ResultDir (lag_10) with VIF of 553.500000\n",
      "Iteration # 167\n",
      "Removing ResultSpeed (lag_12) with VIF of 535.000000\n",
      "Iteration # 168\n",
      "Removing ResultDir (lag_13) with VIF of 520.100000\n",
      "Iteration # 169\n",
      "Removing ResultSpeed (lag_1) with VIF of 519.100000\n",
      "Iteration # 170\n",
      "Removing Cool (lag_6) with VIF of 516.000000\n",
      "Iteration # 171\n",
      "Removing ResultSpeed (lag_7) with VIF of 455.400000\n",
      "Iteration # 172\n",
      "Removing ResultDir (lag_1) with VIF of 442.100000\n",
      "Iteration # 173\n",
      "Removing Heat (lag_2) with VIF of 418.500000\n",
      "Iteration # 174\n",
      "Removing ResultDir (lag_4) with VIF of 395.800000\n",
      "Iteration # 175\n",
      "Removing Depart (lag_9) with VIF of 365.300000\n",
      "Iteration # 176\n",
      "Removing Depart (lag_3) with VIF of 357.900000\n",
      "Iteration # 177\n",
      "Removing Depart (lag_12) with VIF of 340.300000\n",
      "Iteration # 178\n",
      "Removing Depart (lag_5) with VIF of 322.400000\n",
      "Iteration # 179\n",
      "Removing ResultSpeed (lag_11) with VIF of 314.500000\n",
      "Iteration # 180\n",
      "Removing Depart (lag_14) with VIF of 308.300000\n",
      "Iteration # 181\n",
      "Removing ResultDir (lag_9) with VIF of 282.900000\n",
      "Iteration # 182\n",
      "Removing Depart (lag_7) with VIF of 251.600000\n",
      "Iteration # 183\n",
      "Removing Week_of_year with VIF of 250.100000\n",
      "Iteration # 184\n",
      "Removing AvgSpeed (lag_14) with VIF of 223.200000\n",
      "Iteration # 185\n",
      "Removing ResultSpeed (lag_6) with VIF of 220.300000\n",
      "Iteration # 186\n",
      "Removing DewPoint (lag_14) with VIF of 197.800000\n",
      "Iteration # 187\n",
      "Removing Heat (lag_9) with VIF of 193.000000\n",
      "Iteration # 188\n",
      "Removing ResultDir (lag_3) with VIF of 188.400000\n",
      "Iteration # 189\n",
      "Removing ResultDir (lag_11) with VIF of 177.200000\n",
      "Iteration # 190\n",
      "Removing Cool (lag_14) with VIF of 173.000000\n",
      "Iteration # 191\n",
      "Removing Depart (lag_11) with VIF of 171.300000\n",
      "Iteration # 192\n",
      "Removing Heat (lag_3) with VIF of 149.100000\n",
      "Iteration # 193\n",
      "Removing ResultSpeed (lag_3) with VIF of 144.200000\n",
      "Iteration # 194\n",
      "Removing Heat (lag_11) with VIF of 118.200000\n",
      "Iteration # 195\n",
      "Removing Depart (lag_2) with VIF of 109.200000\n",
      "Iteration # 196\n",
      "Removing ResultSpeed (lag_9) with VIF of 105.300000\n",
      "Iteration # 197\n",
      "Removing Tmax with VIF of 104.500000\n",
      "Iteration # 198\n",
      "Removing Heat (lag_5) with VIF of 102.000000\n",
      "Iteration # 199\n",
      "Removing ResultDir (lag_7) with VIF of 87.400000\n",
      "Iteration # 200\n",
      "Removing Depart (lag_8) with VIF of 72.700000\n",
      "Iteration # 201\n",
      "Removing Heat (lag_10) with VIF of 68.200000\n",
      "Iteration # 202\n",
      "Removing AvgSpeed with VIF of 54.000000\n",
      "Iteration # 203\n",
      "Removing Depart (lag_4) with VIF of 49.600000\n",
      "Iteration # 204\n",
      "Removing Heat (lag_7) with VIF of 33.300000\n",
      "Iteration # 205\n",
      "Removing ResultSpeed (lag_14) with VIF of 26.000000\n",
      "Iteration # 206\n",
      "Removing ResultDir with VIF of 22.800000\n",
      "Iteration # 207\n",
      "Removing Depart with VIF of 18.900000\n",
      "Iteration # 208\n",
      "Removing Quarter with VIF of 16.400000\n",
      "Iteration # 209\n",
      "Removing Heat (lag_14) with VIF of 9.500000\n",
      "Iteration # 210\n",
      "Removing Cool (lag_1) with VIF of 7.000000\n",
      "Iteration # 211\n",
      "Complete\n"
     ]
    }
   ],
   "source": [
    "# apply the above function to caculate and select features with VIF of <=5.\n",
    "\n",
    "vif_val = df_iv_cor_trainx._get_numeric_data()\n",
    "final_df, final_vif = iterate_vif(vif_val)"
   ]
  },
  {
   "cell_type": "code",
   "execution_count": 106,
   "metadata": {},
   "outputs": [
    {
     "data": {
      "text/html": [
       "<div>\n",
       "<style scoped>\n",
       "    .dataframe tbody tr th:only-of-type {\n",
       "        vertical-align: middle;\n",
       "    }\n",
       "\n",
       "    .dataframe tbody tr th {\n",
       "        vertical-align: top;\n",
       "    }\n",
       "\n",
       "    .dataframe thead th {\n",
       "        text-align: right;\n",
       "    }\n",
       "</style>\n",
       "<table border=\"1\" class=\"dataframe\">\n",
       "  <thead>\n",
       "    <tr style=\"text-align: right;\">\n",
       "      <th></th>\n",
       "      <th>NumMosquitos</th>\n",
       "      <th>Species_CULEX PIPIENS</th>\n",
       "      <th>ResultDir (lag_14)</th>\n",
       "      <th>Species_CULEX RESTUANS</th>\n",
       "      <th>Depart (lag_13)</th>\n",
       "      <th>Day_of_week</th>\n",
       "      <th>ResultSpeed</th>\n",
       "      <th>Heat</th>\n",
       "    </tr>\n",
       "  </thead>\n",
       "  <tbody>\n",
       "    <tr>\n",
       "      <th>5750</th>\n",
       "      <td>3</td>\n",
       "      <td>0</td>\n",
       "      <td>23.0</td>\n",
       "      <td>0</td>\n",
       "      <td>7.0</td>\n",
       "      <td>3</td>\n",
       "      <td>3.95</td>\n",
       "      <td>3.0</td>\n",
       "    </tr>\n",
       "    <tr>\n",
       "      <th>433</th>\n",
       "      <td>4</td>\n",
       "      <td>1</td>\n",
       "      <td>30.0</td>\n",
       "      <td>0</td>\n",
       "      <td>-3.0</td>\n",
       "      <td>2</td>\n",
       "      <td>9.70</td>\n",
       "      <td>0.0</td>\n",
       "    </tr>\n",
       "    <tr>\n",
       "      <th>902</th>\n",
       "      <td>17</td>\n",
       "      <td>0</td>\n",
       "      <td>11.0</td>\n",
       "      <td>0</td>\n",
       "      <td>8.0</td>\n",
       "      <td>2</td>\n",
       "      <td>2.80</td>\n",
       "      <td>0.0</td>\n",
       "    </tr>\n",
       "    <tr>\n",
       "      <th>6201</th>\n",
       "      <td>5</td>\n",
       "      <td>0</td>\n",
       "      <td>6.5</td>\n",
       "      <td>1</td>\n",
       "      <td>2.0</td>\n",
       "      <td>4</td>\n",
       "      <td>5.55</td>\n",
       "      <td>0.0</td>\n",
       "    </tr>\n",
       "    <tr>\n",
       "      <th>10377</th>\n",
       "      <td>2</td>\n",
       "      <td>1</td>\n",
       "      <td>16.0</td>\n",
       "      <td>0</td>\n",
       "      <td>14.0</td>\n",
       "      <td>3</td>\n",
       "      <td>8.05</td>\n",
       "      <td>0.0</td>\n",
       "    </tr>\n",
       "  </tbody>\n",
       "</table>\n",
       "</div>"
      ],
      "text/plain": [
       "       NumMosquitos  Species_CULEX PIPIENS  ResultDir (lag_14)  \\\n",
       "5750              3                      0                23.0   \n",
       "433               4                      1                30.0   \n",
       "902              17                      0                11.0   \n",
       "6201              5                      0                 6.5   \n",
       "10377             2                      1                16.0   \n",
       "\n",
       "       Species_CULEX RESTUANS  Depart (lag_13)  Day_of_week  ResultSpeed  Heat  \n",
       "5750                        0              7.0            3         3.95   3.0  \n",
       "433                         0             -3.0            2         9.70   0.0  \n",
       "902                         0              8.0            2         2.80   0.0  \n",
       "6201                        1              2.0            4         5.55   0.0  \n",
       "10377                       0             14.0            3         8.05   0.0  "
      ]
     },
     "execution_count": 106,
     "metadata": {},
     "output_type": "execute_result"
    }
   ],
   "source": [
    "final_df.head()\n",
    "# finaly we got 8 features with VIF <=5 ('NumMosquitos', 'Species_CULEX PIPIENS', 'ResultDir (lag_14)', \n",
    "# 'Species_CULEX RESTUANS', 'Depart (lag_13)', 'Day_of_week', 'ResultSpeed', 'Heat')"
   ]
  },
  {
   "cell_type": "code",
   "execution_count": 113,
   "metadata": {},
   "outputs": [
    {
     "name": "stdout",
     "output_type": "stream",
     "text": [
      "<class 'pandas.core.frame.DataFrame'>\n",
      "Int64Index: 1928 entries, 5750 to 10240\n",
      "Data columns (total 8 columns):\n",
      "NumMosquitos              1928 non-null float64\n",
      "Species_CULEX PIPIENS     1928 non-null float64\n",
      "ResultDir (lag_14)        1928 non-null float64\n",
      "Species_CULEX RESTUANS    1928 non-null float64\n",
      "Depart (lag_13)           1928 non-null float64\n",
      "Day_of_week               1928 non-null float64\n",
      "ResultSpeed               1928 non-null float64\n",
      "Heat                      1928 non-null float64\n",
      "dtypes: float64(8)\n",
      "memory usage: 135.6 KB\n",
      "<class 'pandas.core.frame.DataFrame'>\n",
      "Int64Index: 827 entries, 7353 to 2073\n",
      "Data columns (total 8 columns):\n",
      "NumMosquitos              827 non-null float64\n",
      "Species_CULEX PIPIENS     827 non-null float64\n",
      "ResultDir (lag_14)        827 non-null float64\n",
      "Species_CULEX RESTUANS    827 non-null float64\n",
      "Depart (lag_13)           827 non-null float64\n",
      "Day_of_week               827 non-null float64\n",
      "ResultSpeed               827 non-null float64\n",
      "Heat                      827 non-null float64\n",
      "dtypes: float64(8)\n",
      "memory usage: 58.1 KB\n"
     ]
    }
   ],
   "source": [
    "# Since some of the features are uint8 and int64 we changed their dtype to float so that they can be \n",
    "# suitable for our prediction algorithms\n",
    "\n",
    "X_train = final_df              # make copy of the dataset named X_train inorder to make it inforamtive\n",
    "\n",
    "X_train = X_train.astype(float) # change the dtype to float\n",
    "\n",
    "X_train.info()\n",
    "\n",
    "X_test = X_test[X_train.columns]\n",
    "\n",
    "X_test.info()"
   ]
  },
  {
   "cell_type": "markdown",
   "metadata": {},
   "source": [
    "# Logistic Regression"
   ]
  },
  {
   "cell_type": "code",
   "execution_count": 67,
   "metadata": {},
   "outputs": [],
   "source": [
    "# Import the necessary metrics and preprocessing tools\n",
    "\n",
    "from sklearn.metrics import classification_report\n",
    "from sklearn.metrics import roc_auc_score\n",
    "from sklearn.metrics import roc_curve\n",
    "from sklearn.metrics import log_loss\n",
    "from sklearn.metrics import classification_report\n",
    "from sklearn.preprocessing import StandardScaler\n",
    "from sklearn.pipeline import Pipeline\n",
    "from sklearn.model_selection import GridSearchCV\n",
    "from sklearn.metrics import accuracy_score\n",
    "\n"
   ]
  },
  {
   "cell_type": "code",
   "execution_count": 114,
   "metadata": {},
   "outputs": [
    {
     "name": "stdout",
     "output_type": "stream",
     "text": [
      "0.558272239758341\n",
      "0.781136638452237\n",
      "              precision    recall  f1-score   support\n",
      "\n",
      "           0       0.80      0.96      0.87       644\n",
      "           1       0.52      0.16      0.24       183\n",
      "\n",
      "   micro avg       0.78      0.78      0.78       827\n",
      "   macro avg       0.66      0.56      0.56       827\n",
      "weighted avg       0.74      0.78      0.73       827\n",
      "\n"
     ]
    },
    {
     "data": {
      "image/png": "[encoded data removed]",
      "text/plain": [
       "<Figure size 432x288 with 1 Axes>"
      ]
     },
     "metadata": {
      "needs_background": "light"
     },
     "output_type": "display_data"
    }
   ],
   "source": [
    "# Import the model we are going to use\n",
    "\n",
    "from sklearn.linear_model import LogisticRegression\n",
    "\n",
    "# Instantiate model and fit with the training data\n",
    "\n",
    "log_reg=LogisticRegression(random_state=37, solver='liblinear').fit(X_train, y_train)\n",
    "\n",
    "# predict the fitted data\n",
    "y_pred_logistic = log_reg.predict(X_test)\n",
    "\n",
    "# calculate and print the roc_auc_score, accuracy score and classification_report\n",
    "\n",
    "print(roc_auc_score(y_test, y_pred_logistic))                #### 0.5582 ####\n",
    "print(accuracy_score(y_test, y_pred_logistic))               #### 0.7811 ####\n",
    "print(classification_report(y_test, y_pred_logistic))\n",
    "\n",
    "\n",
    "# draw the ROC_AUC curve\n",
    "\n",
    "logit_roc = roc_auc_score(y_test, y_pred_logistic)\n",
    "fpr, tpr, thresholds = roc_curve(y_test, log_reg.predict_proba(X_test)[:,1])\n",
    "plt.figure()\n",
    "plt.plot(fpr, tpr, label='Logistic Regression (area = %0.2f)' % logit_roc)\n",
    "plt.plot([0, 1], [0, 1],'r--')\n",
    "plt.xlim([0.0, 1.0])\n",
    "plt.ylim([0.0, 1.05])\n",
    "plt.xlabel('False Positive Rate')\n",
    "plt.ylabel('True Positive Rate')\n",
    "plt.title('Receiver operating characteristic')\n",
    "plt.legend(loc=\"lower right\")\n",
    "plt.savefig('Log_ROC_curve')\n",
    "plt.show()"
   ]
  },
  {
   "cell_type": "code",
   "execution_count": 132,
   "metadata": {},
   "outputs": [
    {
     "data": {
      "text/plain": [
       "0.451635678429412"
      ]
     },
     "execution_count": 132,
     "metadata": {},
     "output_type": "execute_result"
    }
   ],
   "source": [
    "# Calculate the Logloss for the logistic regression\n",
    "\n",
    "proba = log_reg.predict_proba(X_test)\n",
    "logloss_lr = log_loss(y_test, proba)\n",
    "logloss_lr                           # 0.4516 "
   ]
  },
  {
   "cell_type": "markdown",
   "metadata": {},
   "source": [
    "# KNN"
   ]
  },
  {
   "cell_type": "code",
   "execution_count": 115,
   "metadata": {},
   "outputs": [
    {
     "name": "stdout",
     "output_type": "stream",
     "text": [
      "0.6239351050470081\n",
      "0.7920193470374849\n",
      "              precision    recall  f1-score   support\n",
      "\n",
      "           0       0.83      0.93      0.87       644\n",
      "           1       0.55      0.32      0.41       183\n",
      "\n",
      "   micro avg       0.79      0.79      0.79       827\n",
      "   macro avg       0.69      0.62      0.64       827\n",
      "weighted avg       0.77      0.79      0.77       827\n",
      "\n",
      "Tuned Model Parameters: {'knn__n_neighbors': 9}\n"
     ]
    }
   ],
   "source": [
    "# Import the model we are going to use\n",
    "\n",
    "from sklearn.neighbors import KNeighborsClassifier\n",
    "\n",
    "# Setup the pipeline steps for scaling\n",
    "\n",
    "steps=[('scaler', StandardScaler()),\n",
    "      ('knn', KNeighborsClassifier())]\n",
    "\n",
    "pipeline=Pipeline(steps)\n",
    "\n",
    "# Specify the hyperparameter to be tunned\n",
    "\n",
    "parameters={'knn__n_neighbors' : [7, 8, 9, 10, 11, 12, 13, 14, 15, 16]}\n",
    "\n",
    "# Create the GridSearchCV object\n",
    "\n",
    "cv_knn = GridSearchCV(pipeline, param_grid=parameters, cv=5)\n",
    "\n",
    "#  Fit to the training set\n",
    "\n",
    "cv_knn.fit(X_train, y_train)\n",
    "\n",
    "# predict the fitted data\n",
    "\n",
    "y_pred_knn = cv_knn.predict(X_test)\n",
    "\n",
    "\n",
    "# Compute and print metrics (roc_auc_score, accuracy score and classification_report) with the best model parameters\n",
    "\n",
    "\n",
    "print(roc_auc_score(y_test, y_pred_knn))    #### 0.62393 ####\n",
    "\n",
    "print(accuracy_score(y_test, y_pred_knn))       #### 0.7920 ####\n",
    "\n",
    "print(classification_report(y_test, y_pred_knn))\n",
    "\n",
    "print(\"Tuned Model Parameters: {}\".format(cv_knn.best_params_))\n",
    "\n"
   ]
  },
  {
   "cell_type": "code",
   "execution_count": 116,
   "metadata": {},
   "outputs": [
    {
     "data": {
      "text/plain": [
       "0.8031364810746022"
      ]
     },
     "execution_count": 116,
     "metadata": {},
     "output_type": "execute_result"
    }
   ],
   "source": [
    "# Calculate the Logloss for the KNN\n",
    "\n",
    "knn_prob = cv_knn.predict_proba(X_test)\n",
    "knn_logloss = log_loss(y_test, knn_prob)\n",
    "knn_logloss                                 # 0.8031\n"
   ]
  },
  {
   "cell_type": "markdown",
   "metadata": {},
   "source": [
    "\n",
    "# Random Forest Classifier\n"
   ]
  },
  {
   "cell_type": "code",
   "execution_count": 117,
   "metadata": {},
   "outputs": [
    {
     "name": "stdout",
     "output_type": "stream",
     "text": [
      "0.6738621321657672\n",
      "0.8210399032648126\n",
      "              precision    recall  f1-score   support\n",
      "\n",
      "           0       0.85      0.94      0.89       644\n",
      "           1       0.65      0.41      0.50       183\n",
      "\n",
      "   micro avg       0.82      0.82      0.82       827\n",
      "   macro avg       0.75      0.67      0.70       827\n",
      "weighted avg       0.80      0.82      0.81       827\n",
      "\n",
      "Tuned Model Parameters: {'max_features': 3, 'min_samples_split': 19, 'n_estimators': 100}\n"
     ]
    }
   ],
   "source": [
    "# Import the classifier we are going to use\n",
    "\n",
    "from sklearn.ensemble import RandomForestClassifier\n",
    "\n",
    "# Instantiate model \n",
    "\n",
    "rf = RandomForestClassifier(random_state = 42)\n",
    "\n",
    "# Specify the hyperparameter to be tunned\n",
    "\n",
    "rf_para={'n_estimators' : [100, 150, 200, 250],\n",
    "    'max_features' : [1, 2, 3, 4, 5],\n",
    "        'min_samples_split' : [16, 17, 18, 19, 20, 21, 22, 23, 24, 25]}\n",
    "\n",
    "# Create the GridSearchCV object\n",
    "\n",
    "cv_rf = GridSearchCV(rf, rf_para, cv=5)\n",
    "\n",
    "#  Fit to the training set\n",
    "\n",
    "cv_rf.fit(X_train, y_train)\n",
    "\n",
    "# predict the fitted data\n",
    "\n",
    "y_pred_rf = cv_rf.predict(X_test)\n",
    "\n",
    "\n",
    "# Compute and print metrics (roc_auc_score, accuracy score and classification_report) with the best model parameters\n",
    "\n",
    "print(roc_auc_score(y_test, y_pred_rf))    #### 0.6738 ####\n",
    "\n",
    "print(accuracy_score(y_test, y_pred_rf))       #### 0.8210 ####\n",
    "\n",
    "print(classification_report(y_test, y_pred_rf))\n",
    "\n",
    "print(\"Tuned Model Parameters: {}\".format(cv_rf.best_params_))\n"
   ]
  },
  {
   "cell_type": "code",
   "execution_count": 118,
   "metadata": {},
   "outputs": [
    {
     "data": {
      "text/plain": [
       "0.38172281337700964"
      ]
     },
     "execution_count": 118,
     "metadata": {},
     "output_type": "execute_result"
    }
   ],
   "source": [
    "# Calculate the Logloss for the Random Forest classifier\n",
    "\n",
    "rf_prob = cv_rf.predict_proba(X_test)\n",
    "rf_logloss = log_loss(y_test, rf_prob)\n",
    "rf_logloss                                  # 0.3817\n"
   ]
  },
  {
   "cell_type": "markdown",
   "metadata": {},
   "source": [
    "# SVM"
   ]
  },
  {
   "cell_type": "code",
   "execution_count": 121,
   "metadata": {},
   "outputs": [
    {
     "name": "stdout",
     "output_type": "stream",
     "text": [
      "0.6137231442826597\n",
      "0.8004836759371221\n",
      "              precision    recall  f1-score   support\n",
      "\n",
      "           0       0.82      0.95      0.88       644\n",
      "           1       0.61      0.28      0.38       183\n",
      "\n",
      "   micro avg       0.80      0.80      0.80       827\n",
      "   macro avg       0.71      0.61      0.63       827\n",
      "weighted avg       0.77      0.80      0.77       827\n",
      "\n",
      "Tuned Model Parameters: {'SVM__C': 20, 'SVM__gamma': 0.1, 'SVM__kernel': 'rbf'}\n"
     ]
    }
   ],
   "source": [
    "# Import the classifier we are going to use\n",
    "\n",
    "from sklearn.svm import SVC\n",
    "\n",
    "steps = [('scaler', StandardScaler()),\n",
    "         ('SVM', SVC(probability=True))]\n",
    "\n",
    "# Setup the pipeline steps for scaling\n",
    "\n",
    "pipeline = Pipeline(steps)\n",
    "\n",
    "# Specify the hyperparameter to be tunned\n",
    "\n",
    "parameters = {'SVM__C':[1, 10, 20, 25, 30],\n",
    "              'SVM__gamma':[0.1, 0.01],\n",
    "             'SVM__kernel':['rbf', 'linear']}\n",
    "\n",
    "# Create the GridSearchCV object\n",
    "\n",
    "cv_svm = GridSearchCV(pipeline, parameters, cv=5)\n",
    "\n",
    "#  Fit to the training set\n",
    "\n",
    "cv_svm.fit(X_train, y_train)\n",
    "\n",
    "# predict the fitted data\n",
    "\n",
    "y_pred_svm = cv_svm.predict(X_test)\n",
    "\n",
    "# Compute and print metrics (roc_auc_score, accuracy score and classification_report) with the best model parameters\n",
    "\n",
    "print(roc_auc_score(y_test, y_pred_svm))                           #### 0.6137 #####\n",
    "print(accuracy_score(y_test, y_pred_svm))                           #### 0.8004####\n",
    "print(classification_report(y_test, y_pred_svm))\n",
    "\n",
    "print(\"Tuned Model Parameters: {}\".format(cv_svm.best_params_))\n",
    "       "
   ]
  },
  {
   "cell_type": "code",
   "execution_count": 122,
   "metadata": {},
   "outputs": [
    {
     "data": {
      "text/plain": [
       "0.4504780310270436"
      ]
     },
     "execution_count": 122,
     "metadata": {},
     "output_type": "execute_result"
    }
   ],
   "source": [
    "# Calculate the Logloss for the SVM\n",
    "\n",
    "\n",
    "svm_prob = cv_svm.predict_proba(X_test)\n",
    "svm_logloss = log_loss(y_test, svm_prob)      # 0.4504\n",
    "svm_logloss"
   ]
  },
  {
   "cell_type": "markdown",
   "metadata": {},
   "source": [
    "\n",
    "# Extremely Randomized Trees\n"
   ]
  },
  {
   "cell_type": "code",
   "execution_count": 123,
   "metadata": {},
   "outputs": [
    {
     "name": "stdout",
     "output_type": "stream",
     "text": [
      "0.6066761701116655\n",
      "0.8016928657799275\n",
      "Tuned Model Parameters: {'max_features': 1, 'min_samples_split': 15, 'n_estimators': 50}\n",
      "              precision    recall  f1-score   support\n",
      "\n",
      "           0       0.82      0.96      0.88       644\n",
      "           1       0.63      0.26      0.36       183\n",
      "\n",
      "   micro avg       0.80      0.80      0.80       827\n",
      "   macro avg       0.72      0.61      0.62       827\n",
      "weighted avg       0.78      0.80      0.77       827\n",
      "\n"
     ]
    }
   ],
   "source": [
    "# Import the classifier we are going to use\n",
    "\n",
    "from sklearn.ensemble import ExtraTreesClassifier\n",
    "\n",
    "# Instantiate model \n",
    "\n",
    "ert = ExtraTreesClassifier(random_state = 42)\n",
    "\n",
    "# Specify the hyperparameter to be tunned\n",
    "\n",
    "ert_para={'n_estimators' : [50, 100, 150, 200, 250],\n",
    "    'max_features' : [1, 2, 3, 4, 5],\n",
    "        'min_samples_split' : [14, 15, 16, 17, 18, 19, 20, 21, 22, 23, 24, 25]}\n",
    "\n",
    "# Create the GridSearchCV object\n",
    "\n",
    "cv_ert= GridSearchCV(ert, ert_para, cv=5)\n",
    "\n",
    "#  Fit to the training set\n",
    "\n",
    "cv_ert.fit(X_train, y_train)\n",
    "\n",
    "# predict the fitted data\n",
    "\n",
    "y_pred_ert = cv_ert.predict(X_test)\n",
    "\n",
    "# Compute and print metrics (roc_auc_score, accuracy score and classification_report) with the best model parameters\n",
    "\n",
    "print(roc_auc_score(y_test, y_pred_ert))   #### 0.6066 ####\n",
    "\n",
    "print(accuracy_score(y_test, y_pred_ert))       #### 0.8016 ####\n",
    "print(\"Tuned Model Parameters: {}\".format(cv_ert.best_params_))\n",
    "print(classification_report(y_test, y_pred_ert))\n",
    "\n"
   ]
  },
  {
   "cell_type": "code",
   "execution_count": 124,
   "metadata": {},
   "outputs": [
    {
     "data": {
      "text/plain": [
       "0.3904925644513514"
      ]
     },
     "execution_count": 124,
     "metadata": {},
     "output_type": "execute_result"
    }
   ],
   "source": [
    "# Calculate the Logloss for the ert\n",
    "\n",
    "ert_prob = cv_ert.predict_proba(X_test)\n",
    "ert_logloss = log_loss(y_test, ert_prob)\n",
    "ert_logloss                                 # 0.3904"
   ]
  },
  {
   "cell_type": "markdown",
   "metadata": {},
   "source": [
    "\n",
    "# AdaBoost Classifier\n"
   ]
  },
  {
   "cell_type": "code",
   "execution_count": 125,
   "metadata": {},
   "outputs": [],
   "source": [
    "# Import the classifier we are going to use\n",
    "\n",
    "from sklearn.ensemble import AdaBoostClassifier\n",
    "\n",
    "# Instantiate model \n",
    "\n",
    "adabc = AdaBoostClassifier(random_state = 42)\n",
    "\n",
    "# Specify the hyperparameter to be tunned\n",
    "                        \n",
    "adabc_para={'n_estimators' : [100, 150, 200, 250]}\n",
    "\n",
    "# Create the GridSearchCV object\n",
    "\n",
    "cv_adabc= GridSearchCV(adabc, adabc_para, cv=5)\n",
    "\n",
    "#  Fit to the training set\n",
    "\n",
    "cv_adabc.fit(X_train, y_train)\n",
    "\n",
    "# predict the fitted data\n",
    "\n",
    "y_pred_adabc = cv_adabc.predict(X_test)"
   ]
  },
  {
   "cell_type": "code",
   "execution_count": 131,
   "metadata": {},
   "outputs": [
    {
     "name": "stdout",
     "output_type": "stream",
     "text": [
      "0.663336218307708\n",
      "0.8137847642079806\n",
      "              precision    recall  f1-score   support\n",
      "\n",
      "           0       0.84      0.93      0.89       644\n",
      "           1       0.63      0.39      0.48       183\n",
      "\n",
      "   micro avg       0.81      0.81      0.81       827\n",
      "   macro avg       0.74      0.66      0.68       827\n",
      "weighted avg       0.80      0.81      0.80       827\n",
      "\n",
      "Tuned Model Parameters: {'n_estimators': 200}\n"
     ]
    }
   ],
   "source": [
    "# Compute and print metrics (roc_auc_score, accuracy score and classification_report) with the best model parameters\n",
    "\n",
    "print(roc_auc_score(y_test, y_pred_adabc))    #### 0.6633 ####\n",
    "\n",
    "print(accuracy_score(y_test, y_pred_adabc))       #### 0.8137 ####\n",
    "\n",
    "print(classification_report(y_test, y_pred_adabc))\n",
    "\n",
    "print(\"Tuned Model Parameters: {}\".format(cv_adabc.best_params_))"
   ]
  },
  {
   "cell_type": "code",
   "execution_count": 132,
   "metadata": {},
   "outputs": [
    {
     "data": {
      "text/plain": [
       "0.6859143849542906"
      ]
     },
     "execution_count": 132,
     "metadata": {},
     "output_type": "execute_result"
    }
   ],
   "source": [
    "# Calculate the Logloss for the Ada_boost Classifier\n",
    "\n",
    "adabc_prob = cv_adabc.predict_proba(X_test)\n",
    "adabc_logloss = log_loss(y_test, adabc_prob)\n",
    "adabc_logloss                                   # 0.6859"
   ]
  },
  {
   "cell_type": "markdown",
   "metadata": {},
   "source": [
    "# Gaussian NB"
   ]
  },
  {
   "cell_type": "code",
   "execution_count": 221,
   "metadata": {},
   "outputs": [
    {
     "name": "stdout",
     "output_type": "stream",
     "text": [
      "0.7123510844109561\n",
      "0.7896009673518742\n",
      "              precision    recall  f1-score   support\n",
      "\n",
      "           0       0.88      0.85      0.86       644\n",
      "           1       0.52      0.57      0.55       183\n",
      "\n",
      "   micro avg       0.79      0.79      0.79       827\n",
      "   macro avg       0.70      0.71      0.70       827\n",
      "weighted avg       0.80      0.79      0.79       827\n",
      "\n"
     ]
    }
   ],
   "source": [
    "# Import the classifier we are going to use\n",
    "\n",
    "from sklearn.naive_bayes import GaussianNB\n",
    "\n",
    "# Instantiate model \n",
    "\n",
    "gaus = GaussianNB()\n",
    "\n",
    "#  Fit to the training set\n",
    "\n",
    "gaus.fit(X_train, y_train)\n",
    "\n",
    "# predict the fitted data\n",
    "\n",
    "y_pred_gaus=gaus.predict(X_test)\n",
    "\n",
    "# Compute and print metrics (roc_auc_score, accuracy score and classification_report) with the best model parameters\n",
    "\n",
    "print(roc_auc_score(y_test, y_pred_gaus))    #### 0.7123 ####\n",
    "\n",
    "print(accuracy_score(y_test, y_pred_gaus))       #### 0.7896 ####\n",
    "\n",
    "print(classification_report(y_test, y_pred_gaus))\n"
   ]
  },
  {
   "cell_type": "code",
   "execution_count": 222,
   "metadata": {},
   "outputs": [
    {
     "data": {
      "text/plain": [
       "0.5425506981244398"
      ]
     },
     "execution_count": 222,
     "metadata": {},
     "output_type": "execute_result"
    }
   ],
   "source": [
    "# Calculate the Logloss for the Gaussian NB\n",
    "\n",
    "\n",
    "gaus_prob=gaus.predict_proba(X_test)\n",
    "gaus_logloss = log_loss(y_test, gaus_prob)\n",
    "gaus_logloss   "
   ]
  },
  {
   "cell_type": "code",
   "execution_count": null,
   "metadata": {},
   "outputs": [],
   "source": []
  },
  {
   "cell_type": "markdown",
   "metadata": {},
   "source": [
    "\n",
    "# GradientBoosting Classifier\n"
   ]
  },
  {
   "cell_type": "code",
   "execution_count": 168,
   "metadata": {},
   "outputs": [],
   "source": [
    "# Import the classifier we are going to use\n",
    "\n",
    "from sklearn.ensemble import GradientBoostingClassifier\n",
    "\n",
    "# Instantiate model \n",
    "\n",
    "gradb = GradientBoostingClassifier(learning_rate=0.15, n_estimators=100, max_depth=3, min_samples_leaf=3, \n",
    "                                   min_samples_split=40, random_state=37, max_features=8)\n",
    "\n",
    "# Specify the hyperparameter to be tunned\n",
    "# learning_rates = [1, 0.5, 0.25, 0.1, 0.05, 0.01]\n",
    "# n_estimators = [1, 2, 4, 8, 16, 32, 64, 100, 200]\n",
    "# max_depths = np.linspace(1, 32, 32, endpoint=True)\n",
    "# min_samples_splits = np.linspace(0.1, 1.0, 10, endpoint=True)\n",
    "# min_samples_leafs = np.linspace(0.1, 0.5, 5, endpoint=True)\n",
    "# max_features = list(range(1, 8))\n",
    "\n",
    "gradb_para={'learning_rate':[0.15,0.1,0.05,0.01,0.005,0.001], 'n_estimators':[100,250,500,750,1000,1250,1500],\n",
    "            'max_depth':[2,3,4,5,6,7], 'max_features':[2,3,4,5,6,7,8], 'min_samples_split':[2,4,6,8,10,20,40,60,100], \n",
    "            'min_samples_leaf':[1,3,5,7,9]}\n",
    "\n",
    "# Create the GridSearchCV object\n",
    "\n",
    "cv_gradb= GridSearchCV(gradb, gradb_para, cv=5)\n",
    "\n",
    "#  Fit to the training set\n",
    "\n",
    "cv_gradb.fit(X_train, y_train)\n",
    "\n",
    "# predict the fitted data\n",
    "\n",
    "y_pred_gradb = cv_gradb.predict(X_test)"
   ]
  },
  {
   "cell_type": "code",
   "execution_count": 199,
   "metadata": {},
   "outputs": [],
   "source": [
    "# Compute and print metrics (roc_auc_score, accuracy score and classification_report) with the best model parameters\n",
    "\n",
    "\n",
    "print(roc_auc_score(y_test, y_pred_gradb))    #### 0.6894 ####\n",
    "\n",
    "print(accuracy_score(y_test, y_pred_gradb))       #### 0.8270 ####\n",
    "\n",
    "print(classification_report(y_test, y_pred_gradb))\n",
    "\n",
    "print(\"Tuned Model Parameters: {}\".format(cv_gradb.best_params_)) \n",
    "\n",
    "# finaly ('learning_rate=0.15, n_estimators=100, max_depth=3, min_samples_leaf=3,min_samples_split=40, \n",
    "# random_state=37, max_features=7 ) are the hyper-parameters selected by the gridsearchCv object.\n",
    "\n"
   ]
  },
  {
   "cell_type": "code",
   "execution_count": 223,
   "metadata": {},
   "outputs": [],
   "source": [
    "# Calculate the Logloss for the Gradient Boosting Classifier\n",
    "\n",
    "gradb_prob = cv_gradb.predict_proba(X_test)\n",
    "gradb_logloss = log_loss(y_test, gradb_prob)\n",
    "gradb_logloss                                  # The lowest logloss of  0.3711"
   ]
  },
  {
   "cell_type": "markdown",
   "metadata": {},
   "source": [
    "# Best classifiers\n",
    "\n",
    "#### - Out of the eight classifications algorithms we used, GradientBoosting, Random Forest, Gaussian NB,  and Ada-Boosting are the four best classifiers with best metrics. Though the Gaussian NB Classifier has the best ROC_AUC_SCORE(0.7123), its 'logloss' is larger than the logloss of GradientBoosting Classifier and Random Forest Classifier. Therefore, GradientBoosting Classifier is the one with the lowest logloss, best accuracy score and second best  ROC_AUC_SCORE (0.6859,) which makes it the best algorithm among the eight classifiers we used.\n",
    "\n",
    "#### 1 - GradientBoosting Classifier (ROC_AUC_SCORE=0.6859, Accuracy=0.824, logloss=0.37)\n",
    "#### 2 - Random Forest Classifier ( ROC_AUC_SCORE=0.6738, Accuracy=0.8210, logloss=0.38)\n",
    "#### 3 - Gaussian NB Classifier (ROC_AUC_SCORE=0.7123, Accuracy=0.789, logloss=0.5425)\n",
    "#### 4 - Ada-Boosting Classifier ( ROC_AUC_SCORE=0.6633, Accuracy=0.8137, logloss=0.68)"
   ]
  },
  {
   "cell_type": "markdown",
   "metadata": {},
   "source": [
    "\n",
    "### Re-run the Gradient Boosting Algorithm Using the Selected Best Hyperparameters\n"
   ]
  },
  {
   "cell_type": "code",
   "execution_count": 224,
   "metadata": {},
   "outputs": [
    {
     "name": "stdout",
     "output_type": "stream",
     "text": [
      "0.6894791772731902\n",
      "0.8270858524788391\n",
      "0.3711634021613398\n"
     ]
    },
    {
     "data": {
      "image/png": "[encoded data removed]",
      "text/plain": [
       "<Figure size 432x288 with 1 Axes>"
      ]
     },
     "metadata": {
      "needs_background": "light"
     },
     "output_type": "display_data"
    }
   ],
   "source": [
    "# let's now run the model using the selected best hyperparameters to make sure that we got same \n",
    "# result to the gridsearchcv object\n",
    "\n",
    "\n",
    "# Instantiate model \n",
    "\n",
    "gradb0 = GradientBoostingClassifier(learning_rate=0.15, n_estimators=100, max_depth=3, min_samples_leaf=3, \n",
    "                                   min_samples_split=40, random_state=37, max_features=7)\n",
    "\n",
    "#  Fit to the training set\n",
    "\n",
    "gradb0.fit(X_train, y_train)\n",
    "\n",
    "# predict the fitted data\n",
    "\n",
    "y_pred_gradb0 = gradb0.predict(X_test)\n",
    "\n",
    "print(roc_auc_score(y_test, y_pred_gradb0))    #### 0.6894 ####\n",
    "\n",
    "print(accuracy_score(y_test, y_pred_gradb0))       #### 0.8270 ####\n",
    "\n",
    "print(classification_report(y_test, y_pred_gradb0))\n",
    "\n",
    "\n",
    "# Calculate the Logloss for the Gradient Boosting Classifier\n",
    "\n",
    "gradb_prob0 =gradb0.predict_proba(X_test)\n",
    "gradb_logloss0 = log_loss(y_test, gradb_prob0)\n",
    "print(gradb_logloss0)                                 # 0.3711 \n",
    "\n",
    "\n",
    "gradb_roc = roc_auc_score(y_test, y_pred_gradb0)\n",
    "fpr, tpr, thresholds = roc_curve(y_test, gradb0.predict_proba(X_test)[:,1])\n",
    "plt.figure()\n",
    "plt.plot(fpr, tpr, 'g', label='GradientBoosting (area = %0.2f)' % gradb_roc)\n",
    "plt.plot([0, 1], [0, 1],'r--')\n",
    "plt.xlim([0.0, 1.0])\n",
    "plt.ylim([0.0, 1.05])\n",
    "plt.xlabel('False Positive Rate')\n",
    "plt.ylabel('True Positive Rate')\n",
    "plt.title('Receiver operating characteristic')\n",
    "plt.legend(loc=\"lower right\")\n",
    "plt.savefig('Gradient_boosting_ROC_curve')\n",
    "plt.show()"
   ]
  },
  {
   "cell_type": "markdown",
   "metadata": {},
   "source": [
    "### Feature Importance using Gradient Boosting Algorithm"
   ]
  },
  {
   "cell_type": "code",
   "execution_count": 209,
   "metadata": {},
   "outputs": [
    {
     "name": "stdout",
     "output_type": "stream",
     "text": [
      "NumMosquitos = 0.5004028707508372\n",
      "Species_CULEX PIPIENS = 0.02705345859095262\n",
      "ResultDir (lag_14) = 0.09544503910616788\n",
      "Species_CULEX RESTUANS = 0.026938253654067768\n",
      "Depart (lag_13) = 0.12461061748921251\n",
      "Day_of_week = 0.08534357911978857\n",
      "ResultSpeed = 0.12709942398147833\n",
      "Heat = 0.013106757307495092\n"
     ]
    }
   ],
   "source": [
    "for name, importance in zip(X_train.columns, gradb0.feature_importances_):\n",
    "    print(name, \"=\", importance)\n",
    "    \n"
   ]
  },
  {
   "cell_type": "markdown",
   "metadata": {},
   "source": [
    "### Visualizing Feature Importances using Gradient Boosting Algorithm"
   ]
  },
  {
   "cell_type": "code",
   "execution_count": 220,
   "metadata": {},
   "outputs": [
    {
     "data": {
      "image/png": "[encoded data removed]",
      "text/plain": [
       "<Figure size 432x288 with 1 Axes>"
      ]
     },
     "metadata": {
      "needs_background": "light"
     },
     "output_type": "display_data"
    }
   ],
   "source": [
    "features = X_train.columns\n",
    "importances = gradb0.feature_importances_\n",
    "indices = np.argsort(importances)\n",
    "\n",
    "plt.title('Feature Importances for WNV Detection')\n",
    "plt.barh(range(len(indices)), importances[indices], color='b', align='center')\n",
    "plt.yticks(range(len(indices)), [features[i] for i in indices])\n",
    "plt.xlabel('Relative Importance')\n",
    "plt.show()\n",
    "\n",
    "\n",
    "# 'NumMosquitos' is the strongest feature that predicts the presence or absence of WNV in mosquito; \n",
    "# followed by ResultSpeed & Depart (lag_13). \n",
    "# While 'Heat' is the weakest feature in classifying the presence or absence of WNV in mosquito "
   ]
  },
  {
   "cell_type": "code",
   "execution_count": null,
   "metadata": {},
   "outputs": [],
   "source": []
  }
 ],
 "metadata": {
  "kernelspec": {
   "display_name": "Python 3",
   "language": "python",
   "name": "python3"
  },
  "language_info": {
   "codemirror_mode": {
    "name": "ipython",
    "version": 3
   },
   "file_extension": ".py",
   "mimetype": "text/x-python",
   "name": "python",
   "nbconvert_exporter": "python",
   "pygments_lexer": "ipython3",
   "version": "3.7.3"
  }
 },
 "nbformat": 4,
 "nbformat_minor": 2
}
